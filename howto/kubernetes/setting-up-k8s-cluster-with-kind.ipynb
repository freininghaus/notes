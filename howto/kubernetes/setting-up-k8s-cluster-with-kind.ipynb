{
 "cells": [
  {
   "cell_type": "markdown",
   "metadata": {},
   "source": [
    "# Setting up a single-node Kubernetes cluster with `kind`\n",
    "In this notebook, we will set up a single-node Kubernetes cluster on the machine running the Jupyter kernel and test it. The only prerequisite is that Docker is running. All other required components will be downloaded and installed in `$PWD/download`.\n",
    "\n",
    "**TODO:** Write a script that automates these steps, which can then be used for other k8s-related notebooks"
   ]
  },
  {
   "cell_type": "markdown",
   "metadata": {},
   "source": [
    "## Create required directories and update `PATH`"
   ]
  },
  {
   "cell_type": "code",
   "execution_count": 1,
   "metadata": {},
   "outputs": [],
   "source": [
    "mkdir -p download\n",
    "export DOWNLOAD_DIR=$PWD/download\n",
    "\n",
    "if [[ \":$PATH:\" != *\":$DOWNLOAD_DIR:\"* ]]; then\n",
    "    export PATH=$PWD/download:$PATH\n",
    "fi"
   ]
  },
  {
   "cell_type": "markdown",
   "metadata": {},
   "source": [
    "## Download *kubectl*\n",
    "For any interaction with a Kubernetes cluster, we need *kubectl*."
   ]
  },
  {
   "cell_type": "code",
   "execution_count": 2,
   "metadata": {},
   "outputs": [],
   "source": [
    "if [ ! -f \"download/kubectl\" ]; then\n",
    "    echo \"Downloading kubectl...\"\n",
    "    curl -sLo download/kubectl https://storage.googleapis.com/kubernetes-release/release/$(curl -s https://storage.googleapis.com/kubernetes-release/release/stable.txt)/bin/linux/amd64/kubectl\n",
    "    chmod u+x download/kubectl\n",
    "fi"
   ]
  },
  {
   "cell_type": "markdown",
   "metadata": {},
   "source": [
    "## Download *kind*\n",
    "*kind* (Kubernetes in Docker) is a tool that can be used to set up a local Kubernetes cluster for testing purposes easily: https://github.com/kubernetes-sigs/kind"
   ]
  },
  {
   "cell_type": "code",
   "execution_count": 3,
   "metadata": {},
   "outputs": [],
   "source": [
    "if [ ! -f \"download/kind\" ]; then\n",
    "    echo \"Downloading kind...\"\n",
    "    curl -sLo download/kind https://github.com/kubernetes-sigs/kind/releases/download/v0.5.1/kind-$(uname)-amd64\n",
    "    chmod +x download/kind\n",
    "fi"
   ]
  },
  {
   "cell_type": "markdown",
   "metadata": {},
   "source": [
    "## Run `kind` without arguments to see the available commands"
   ]
  },
  {
   "cell_type": "code",
   "execution_count": 4,
   "metadata": {},
   "outputs": [
    {
     "name": "stdout",
     "output_type": "stream",
     "text": [
      "kind creates and manages local Kubernetes clusters using Docker container 'nodes'\n",
      "\n",
      "Usage:\n",
      "  kind [command]\n",
      "\n",
      "Available Commands:\n",
      "  build       Build one of [base-image, node-image]\n",
      "  completion  Output shell completion code for the specified shell (bash or zsh)\n",
      "  create      Creates one of [cluster]\n",
      "  delete      Deletes one of [cluster]\n",
      "  export      exports one of [logs]\n",
      "  get         Gets one of [clusters, nodes, kubeconfig, kubeconfig-path]\n",
      "  help        Help about any command\n",
      "  load        Loads images into nodes\n",
      "  version     prints the kind CLI version\n",
      "\n",
      "Flags:\n",
      "  -h, --help              help for kind\n",
      "      --loglevel string   logrus log level [panic, fatal, error, warning, info, debug, trace] (default \"warning\")\n",
      "      --version           version for kind\n",
      "\n",
      "Use \"kind [command] --help\" for more information about a command.\n"
     ]
    }
   ],
   "source": [
    "kind"
   ]
  },
  {
   "cell_type": "markdown",
   "metadata": {},
   "source": [
    "## Create a Kubernetes cluster with the default name *kind*"
   ]
  },
  {
   "cell_type": "code",
   "execution_count": 5,
   "metadata": {},
   "outputs": [
    {
     "name": "stdout",
     "output_type": "stream",
     "text": [
      "Creating cluster \"kind\" ...\n",
      " ✓ Ensuring node image (kindest/node:v1.15.3) 🖼\n",
      " ✓ Preparing nodes 📦 \n",
      " ✓ Creating kubeadm config 📜 \n",
      " ✓ Starting control-plane 🕹️ \n",
      " ✓ Installing CNI 🔌 \n",
      " ✓ Installing StorageClass 💾 \n",
      "Cluster creation complete. You can now use the cluster with:\n",
      "\n",
      "export KUBECONFIG=\"$(kind get kubeconfig-path --name=\"kind\")\"\n",
      "kubectl cluster-info\n"
     ]
    }
   ],
   "source": [
    "kind create cluster"
   ]
  },
  {
   "cell_type": "markdown",
   "metadata": {},
   "source": [
    "## Set up `KUBECONFIG` environment variable and get cluster information "
   ]
  },
  {
   "cell_type": "code",
   "execution_count": 6,
   "metadata": {},
   "outputs": [
    {
     "name": "stdout",
     "output_type": "stream",
     "text": [
      "\u001b[0;32mKubernetes master\u001b[0m is running at \u001b[0;33mhttps://127.0.0.1:38699\u001b[0m\n",
      "\u001b[0;32mKubeDNS\u001b[0m is running at \u001b[0;33mhttps://127.0.0.1:38699/api/v1/namespaces/kube-system/services/kube-dns:dns/proxy\u001b[0m\n",
      "\n",
      "To further debug and diagnose cluster problems, use 'kubectl cluster-info dump'.\n"
     ]
    }
   ],
   "source": [
    "export KUBECONFIG=\"$(kind get kubeconfig-path --name=\"kind\")\"\n",
    "kubectl cluster-info"
   ]
  },
  {
   "cell_type": "markdown",
   "metadata": {},
   "source": [
    "## Get the Kubernetes resources in the cluster"
   ]
  },
  {
   "cell_type": "code",
   "execution_count": 7,
   "metadata": {},
   "outputs": [
    {
     "name": "stdout",
     "output_type": "stream",
     "text": [
      "\n",
      "\n",
      "NAMESPACE     NAME                 TYPE        CLUSTER-IP   EXTERNAL-IP   PORT(S)                  AGE\n",
      "default       service/kubernetes   ClusterIP   10.96.0.1    <none>        443/TCP                  7s\n",
      "kube-system   service/kube-dns     ClusterIP   10.96.0.10   <none>        53/UDP,53/TCP,9153/TCP   5s\n",
      "\n",
      "NAMESPACE     NAME                        DESIRED   CURRENT   READY   UP-TO-DATE   AVAILABLE   NODE SELECTOR                 AGE\n",
      "kube-system   daemonset.apps/kindnet      0         0         0       0            0           <none>                        3s\n",
      "kube-system   daemonset.apps/kube-proxy   0         0         0       0            0           beta.kubernetes.io/os=linux   5s\n",
      "\n",
      "NAMESPACE     NAME                      READY   UP-TO-DATE   AVAILABLE   AGE\n",
      "kube-system   deployment.apps/coredns   0/2     0            0           5s\n",
      "\n",
      "\n",
      "\n",
      "\n",
      "\n"
     ]
    }
   ],
   "source": [
    "kubectl get all --all-namespaces"
   ]
  },
  {
   "cell_type": "markdown",
   "metadata": {},
   "source": [
    "## Note that the Kubernetes cluster is running in a single Docker container"
   ]
  },
  {
   "cell_type": "code",
   "execution_count": 8,
   "metadata": {},
   "outputs": [
    {
     "name": "stdout",
     "output_type": "stream",
     "text": [
      "CONTAINER ID        IMAGE                  COMMAND                  CREATED             STATUS              PORTS                                  NAMES\n",
      "e70610949581        kindest/node:v1.15.3   \"/usr/local/bin/entr…\"   32 seconds ago      Up 29 seconds       38699/tcp, 127.0.0.1:38699->6443/tcp   kind-control-plane\n"
     ]
    }
   ],
   "source": [
    "docker ps"
   ]
  },
  {
   "cell_type": "markdown",
   "metadata": {},
   "source": [
    "## Finally, delete the created cluster and delete the (now invalid) contents of `KUBECONFIG`\n"
   ]
  },
  {
   "cell_type": "code",
   "execution_count": 9,
   "metadata": {},
   "outputs": [
    {
     "name": "stdout",
     "output_type": "stream",
     "text": [
      "Deleting cluster \"kind\" ...\n"
     ]
    }
   ],
   "source": [
    "unset KUBECONFIG\n",
    "kind delete cluster"
   ]
  }
 ],
 "metadata": {
  "kernelspec": {
   "display_name": "Bash",
   "language": "bash",
   "name": "bash"
  },
  "language_info": {
   "codemirror_mode": "shell",
   "file_extension": ".sh",
   "mimetype": "text/x-sh",
   "name": "bash"
  }
 },
 "nbformat": 4,
 "nbformat_minor": 2
}
