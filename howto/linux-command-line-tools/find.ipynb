{
 "cells": [
  {
   "cell_type": "markdown",
   "metadata": {},
   "source": [
    "# find"
   ]
  },
  {
   "cell_type": "markdown",
   "metadata": {
    "toc": true
   },
   "source": [
    "<h1>Table of Contents<span class=\"tocSkip\"></span></h1>\n",
    "<div class=\"toc\"><ul class=\"toc-item\"><li><span><a href=\"#Create-a-tree-structure-with-some-test-files\" data-toc-modified-id=\"Create-a-tree-structure-with-some-test-files-1\"><span class=\"toc-item-num\">1&nbsp;&nbsp;</span>Create a tree structure with some test files</a></span></li><li><span><a href=\"#find-.-finds-all-files,-directories-and-symbolic-links\" data-toc-modified-id=\"find-.-finds-all-files,-directories-and-symbolic-links-2\"><span class=\"toc-item-num\">2&nbsp;&nbsp;</span><code>find .</code> finds all files, directories and symbolic links</a></span></li><li><span><a href=\"#Filtering-by-file-type-with-the--type-option\" data-toc-modified-id=\"Filtering-by-file-type-with-the--type-option-3\"><span class=\"toc-item-num\">3&nbsp;&nbsp;</span>Filtering by file type with the <code>-type</code> option</a></span><ul class=\"toc-item\"><li><span><a href=\"#Find-only-files-with--type-f\" data-toc-modified-id=\"Find-only-files-with--type-f-3.1\"><span class=\"toc-item-num\">3.1&nbsp;&nbsp;</span>Find only files with <code>-type f</code></a></span></li><li><span><a href=\"#Find-only-directories-with--type-d\" data-toc-modified-id=\"Find-only-directories-with--type-d-3.2\"><span class=\"toc-item-num\">3.2&nbsp;&nbsp;</span>Find only directories with <code>-type d</code></a></span></li><li><span><a href=\"#Find-only-symbolic-links-with--type-l\" data-toc-modified-id=\"Find-only-symbolic-links-with--type-l-3.3\"><span class=\"toc-item-num\">3.3&nbsp;&nbsp;</span>Find only symbolic links with <code>-type l</code></a></span></li><li><span><a href=\"#Follow-links-to-determine-the-type-with--L\" data-toc-modified-id=\"Follow-links-to-determine-the-type-with--L-3.4\"><span class=\"toc-item-num\">3.4&nbsp;&nbsp;</span>Follow links to determine the type with <code>-L</code></a></span></li><li><span><a href=\"#Find-broken-symbolic-links-with--L--type-l\" data-toc-modified-id=\"Find-broken-symbolic-links-with--L--type-l-3.5\"><span class=\"toc-item-num\">3.5&nbsp;&nbsp;</span>Find broken symbolic links with <code>-L -type l</code></a></span></li></ul></li><li><span><a href=\"#Clean-up-the-temporary-directory-structure\" data-toc-modified-id=\"Clean-up-the-temporary-directory-structure-4\"><span class=\"toc-item-num\">4&nbsp;&nbsp;</span>Clean up the temporary directory structure</a></span></li></ul></div>"
   ]
  },
  {
   "cell_type": "markdown",
   "metadata": {},
   "source": [
    "# TODO\n",
    "Add examples for other interesting `find` features and use cases"
   ]
  },
  {
   "cell_type": "markdown",
   "metadata": {},
   "source": [
    "## Create a tree structure with some test files"
   ]
  },
  {
   "cell_type": "code",
   "execution_count": 1,
   "metadata": {},
   "outputs": [],
   "source": [
    "rm -rf tmp\n",
    "mkdir tmp\n",
    "cd tmp\n",
    "mkdir dir1\n",
    "mkdir dir2\n",
    "touch a.txt dir1/b.txt dir2/c.txt\n",
    "ln -s dir1 link_to_dir1\n",
    "ln -s a.txt link_to_a.txt\n",
    "ln -s dir1/b.txt link_to_b.txt\n",
    "ln -s INVALID broken_link"
   ]
  },
  {
   "cell_type": "markdown",
   "metadata": {},
   "source": [
    "## `find .` finds all files, directories and symbolic links"
   ]
  },
  {
   "cell_type": "code",
   "execution_count": 2,
   "metadata": {},
   "outputs": [
    {
     "name": "stdout",
     "output_type": "stream",
     "text": [
      ".\n",
      "./a.txt\n",
      "./broken_link\n",
      "./dir1\n",
      "./dir1/b.txt\n",
      "./dir2\n",
      "./dir2/c.txt\n",
      "./link_to_a.txt\n",
      "./link_to_b.txt\n",
      "./link_to_dir1\n"
     ]
    }
   ],
   "source": [
    "find . | sort"
   ]
  },
  {
   "cell_type": "markdown",
   "metadata": {},
   "source": [
    "## Filtering by file type with the `-type` option"
   ]
  },
  {
   "cell_type": "markdown",
   "metadata": {},
   "source": [
    "### Find only files with `-type f`"
   ]
  },
  {
   "cell_type": "code",
   "execution_count": 3,
   "metadata": {},
   "outputs": [
    {
     "name": "stdout",
     "output_type": "stream",
     "text": [
      "./a.txt\n",
      "./dir1/b.txt\n",
      "./dir2/c.txt\n"
     ]
    }
   ],
   "source": [
    "find . -type f | sort"
   ]
  },
  {
   "cell_type": "markdown",
   "metadata": {},
   "source": [
    "### Find only directories with `-type d`"
   ]
  },
  {
   "cell_type": "code",
   "execution_count": 4,
   "metadata": {},
   "outputs": [
    {
     "name": "stdout",
     "output_type": "stream",
     "text": [
      ".\n",
      "./dir1\n",
      "./dir2\n"
     ]
    }
   ],
   "source": [
    "find . -type d | sort"
   ]
  },
  {
   "cell_type": "markdown",
   "metadata": {},
   "source": [
    "### Find only symbolic links with `-type l`"
   ]
  },
  {
   "cell_type": "code",
   "execution_count": 5,
   "metadata": {},
   "outputs": [
    {
     "name": "stdout",
     "output_type": "stream",
     "text": [
      "./broken_link\n",
      "./link_to_a.txt\n",
      "./link_to_b.txt\n",
      "./link_to_dir1\n"
     ]
    }
   ],
   "source": [
    "find . -type l | sort"
   ]
  },
  {
   "cell_type": "markdown",
   "metadata": {},
   "source": [
    "### Follow links to determine the type with `-L`"
   ]
  },
  {
   "cell_type": "code",
   "execution_count": 6,
   "metadata": {},
   "outputs": [
    {
     "name": "stdout",
     "output_type": "stream",
     "text": [
      "./a.txt\n",
      "./dir1/b.txt\n",
      "./dir2/c.txt\n",
      "./link_to_a.txt\n",
      "./link_to_b.txt\n",
      "./link_to_dir1/b.txt\n"
     ]
    }
   ],
   "source": [
    "find -L . -type f | sort"
   ]
  },
  {
   "cell_type": "code",
   "execution_count": 7,
   "metadata": {},
   "outputs": [
    {
     "name": "stdout",
     "output_type": "stream",
     "text": [
      ".\n",
      "./dir1\n",
      "./dir2\n",
      "./link_to_dir1\n"
     ]
    }
   ],
   "source": [
    "find -L . -type d | sort"
   ]
  },
  {
   "cell_type": "markdown",
   "metadata": {},
   "source": [
    "### Find broken symbolic links with `-L -type l`\n",
    "Since broken symbolic links cannot be followed, their type remains `l` even if the `-L` option is used."
   ]
  },
  {
   "cell_type": "code",
   "execution_count": 8,
   "metadata": {},
   "outputs": [
    {
     "name": "stdout",
     "output_type": "stream",
     "text": [
      "./broken_link\n"
     ]
    }
   ],
   "source": [
    "find -L . -type l | sort"
   ]
  },
  {
   "cell_type": "markdown",
   "metadata": {},
   "source": [
    "## Clean up the temporary directory structure"
   ]
  },
  {
   "cell_type": "code",
   "execution_count": 9,
   "metadata": {},
   "outputs": [],
   "source": [
    "cd ..\n",
    "rm -r tmp"
   ]
  }
 ],
 "metadata": {
  "kernelspec": {
   "display_name": "Bash",
   "language": "bash",
   "name": "bash"
  },
  "language_info": {
   "codemirror_mode": "shell",
   "file_extension": ".sh",
   "mimetype": "text/x-sh",
   "name": "bash"
  },
  "toc": {
   "base_numbering": 1,
   "nav_menu": {},
   "number_sections": true,
   "sideBar": true,
   "skip_h1_title": true,
   "title_cell": "Table of Contents",
   "title_sidebar": "Contents",
   "toc_cell": true,
   "toc_position": {},
   "toc_section_display": true,
   "toc_window_display": false
  }
 },
 "nbformat": 4,
 "nbformat_minor": 2
}
