{
 "cells": [
  {
   "cell_type": "markdown",
   "metadata": {},
   "source": [
    "# parallel"
   ]
  },
  {
   "cell_type": "markdown",
   "metadata": {
    "toc": true
   },
   "source": [
    "<h1>Table of Contents<span class=\"tocSkip\"></span></h1>\n",
    "<div class=\"toc\"><ul class=\"toc-item\"><li><span><a href=\"#Run-echo-with-arguments-1,-2,-3,-4,-5-(2-parallel-jobs,-stdout-mixed)\" data-toc-modified-id=\"Run-echo-with-arguments-1,-2,-3,-4,-5-(2-parallel-jobs,-stdout-mixed)-1\"><span class=\"toc-item-num\">1&nbsp;&nbsp;</span>Run <code>echo</code> with arguments 1, 2, 3, 4, 5 (2 parallel jobs, <code>stdout</code> mixed)</a></span></li><li><span><a href=\"#Different-buffering-modes\" data-toc-modified-id=\"Different-buffering-modes-2\"><span class=\"toc-item-num\">2&nbsp;&nbsp;</span>Different buffering modes</a></span></li><li><span><a href=\"#Nested-loops\" data-toc-modified-id=\"Nested-loops-3\"><span class=\"toc-item-num\">3&nbsp;&nbsp;</span>Nested loops</a></span></li></ul></div>"
   ]
  },
  {
   "cell_type": "markdown",
   "metadata": {},
   "source": [
    "## Run `echo` with arguments 1, 2, 3, 4, 5 (2 parallel jobs, `stdout` mixed)\n",
    "The option `--lb` tells `parallel` to use line buffering."
   ]
  },
  {
   "cell_type": "code",
   "execution_count": 1,
   "metadata": {},
   "outputs": [
    {
     "name": "stdout",
     "output_type": "stream",
     "text": [
      "1\n",
      "2\n",
      "3\n",
      "4\n",
      "5\n"
     ]
    }
   ],
   "source": [
    "# version 1\n",
    "parallel --lb --jobs 2 echo ::: 1 2 3 4 5"
   ]
  },
  {
   "cell_type": "code",
   "execution_count": 2,
   "metadata": {},
   "outputs": [
    {
     "name": "stdout",
     "output_type": "stream",
     "text": [
      "1\n",
      "2\n",
      "3\n",
      "4\n",
      "5\n"
     ]
    }
   ],
   "source": [
    "# version 2\n",
    "parallel --lb --jobs 2 echo ::: $(seq 1 5)"
   ]
  },
  {
   "cell_type": "code",
   "execution_count": 3,
   "metadata": {},
   "outputs": [
    {
     "name": "stdout",
     "output_type": "stream",
     "text": [
      "1\n",
      "2\n",
      "3\n",
      "4\n",
      "5\n"
     ]
    }
   ],
   "source": [
    "# version 3 (uses a file handle as input)\n",
    "parallel --lb --jobs 2 echo :::: <(seq 1 5)"
   ]
  },
  {
   "cell_type": "markdown",
   "metadata": {},
   "source": [
    "## Different buffering modes\n",
    "The default is `--group`, which prints the full output of a job only when it is finished:"
   ]
  },
  {
   "cell_type": "code",
   "execution_count": 4,
   "metadata": {},
   "outputs": [
    {
     "name": "stdout",
     "output_type": "stream",
     "text": [
      "start 1\n",
      "end 1\n",
      "start 2\n",
      "end 2\n",
      "start 3\n",
      "end 3\n"
     ]
    }
   ],
   "source": [
    "parallel \"echo start {}; sleep {}; echo end {}\" :::: <(seq 3 -1 1)"
   ]
  },
  {
   "cell_type": "markdown",
   "metadata": {},
   "source": [
    "Line buffering mode prints each line immediately:"
   ]
  },
  {
   "cell_type": "code",
   "execution_count": 5,
   "metadata": {},
   "outputs": [
    {
     "name": "stdout",
     "output_type": "stream",
     "text": [
      "start 2\n",
      "start 3\n",
      "start 1\n",
      "end 1\n",
      "end 2\n",
      "end 3\n"
     ]
    }
   ],
   "source": [
    "parallel --lb \"echo start {}; sleep {}; echo end {}\" :::: <(seq 3 -1 1)"
   ]
  },
  {
   "cell_type": "markdown",
   "metadata": {},
   "source": [
    "## Nested loops"
   ]
  },
  {
   "cell_type": "code",
   "execution_count": 6,
   "metadata": {},
   "outputs": [
    {
     "name": "stdout",
     "output_type": "stream",
     "text": [
      "1 A\n",
      "1 B\n",
      "1 C\n",
      "2 A\n",
      "2 B\n",
      "2 C\n",
      "3 A\n",
      "3 B\n",
      "3 C\n"
     ]
    }
   ],
   "source": [
    "parallel \"echo {1} {2}\" ::: 1 2 3 ::: A B C"
   ]
  }
 ],
 "metadata": {
  "kernelspec": {
   "display_name": "Bash",
   "language": "bash",
   "name": "bash"
  },
  "language_info": {
   "codemirror_mode": "shell",
   "file_extension": ".sh",
   "mimetype": "text/x-sh",
   "name": "bash"
  },
  "toc": {
   "base_numbering": 1,
   "nav_menu": {},
   "number_sections": true,
   "sideBar": true,
   "skip_h1_title": true,
   "title_cell": "Table of Contents",
   "title_sidebar": "Contents",
   "toc_cell": true,
   "toc_position": {},
   "toc_section_display": true,
   "toc_window_display": false
  }
 },
 "nbformat": 4,
 "nbformat_minor": 2
}
