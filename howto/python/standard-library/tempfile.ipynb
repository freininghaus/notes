{
 "cells": [
  {
   "cell_type": "markdown",
   "metadata": {},
   "source": [
    "# tempfile -- Generate temporary files and directories\n",
    "https://docs.python.org/3/library/tempfile.html"
   ]
  },
  {
   "cell_type": "markdown",
   "metadata": {
    "toc": true
   },
   "source": [
    "<h1>Table of Contents<span class=\"tocSkip\"></span></h1>\n",
    "<div class=\"toc\"><ul class=\"toc-item\"><li><span><a href=\"#Create-and-delete-a-temporary-file-with-a-context-manager\" data-toc-modified-id=\"Create-and-delete-a-temporary-file-with-a-context-manager-1\"><span class=\"toc-item-num\">1&nbsp;&nbsp;</span>Create and delete a temporary file with a context manager</a></span><ul class=\"toc-item\"><li><span><a href=\"#Files-are-opened-in-binary-mode-by-default\" data-toc-modified-id=\"Files-are-opened-in-binary-mode-by-default-1.1\"><span class=\"toc-item-num\">1.1&nbsp;&nbsp;</span>Files are opened in binary mode by default</a></span></li><li><span><a href=\"#Opening-a-temporary-file-in-text-mode\" data-toc-modified-id=\"Opening-a-temporary-file-in-text-mode-1.2\"><span class=\"toc-item-num\">1.2&nbsp;&nbsp;</span>Opening a temporary file in text mode</a></span></li><li><span><a href=\"#Creating-a-temporary-file-with-a-visible-name\" data-toc-modified-id=\"Creating-a-temporary-file-with-a-visible-name-1.3\"><span class=\"toc-item-num\">1.3&nbsp;&nbsp;</span>Creating a temporary file with a visible name</a></span></li><li><span><a href=\"#Keeping-a-named-temporary-file-with-delete=False\" data-toc-modified-id=\"Keeping-a-named-temporary-file-with-delete=False-1.4\"><span class=\"toc-item-num\">1.4&nbsp;&nbsp;</span>Keeping a named temporary file with <code>delete=False</code></a></span></li></ul></li><li><span><a href=\"#Creating-a-temporary-directory\" data-toc-modified-id=\"Creating-a-temporary-directory-2\"><span class=\"toc-item-num\">2&nbsp;&nbsp;</span>Creating a temporary directory</a></span></li></ul></div>"
   ]
  },
  {
   "cell_type": "code",
   "execution_count": 1,
   "metadata": {},
   "outputs": [],
   "source": [
    "import tempfile"
   ]
  },
  {
   "cell_type": "markdown",
   "metadata": {},
   "source": [
    "## Create and delete a temporary file with a context manager"
   ]
  },
  {
   "cell_type": "markdown",
   "metadata": {},
   "source": [
    "### Files are opened in binary mode by default"
   ]
  },
  {
   "cell_type": "code",
   "execution_count": 2,
   "metadata": {},
   "outputs": [
    {
     "name": "stdout",
     "output_type": "stream",
     "text": [
      "b'Hello'\n"
     ]
    }
   ],
   "source": [
    "with tempfile.TemporaryFile() as binary_temp_file:\n",
    "    binary_temp_file.write(b\"Hello\")\n",
    "    binary_temp_file.seek(0)\n",
    "    print(binary_temp_file.read())"
   ]
  },
  {
   "cell_type": "markdown",
   "metadata": {},
   "source": [
    "### Opening a temporary file in text mode"
   ]
  },
  {
   "cell_type": "code",
   "execution_count": 3,
   "metadata": {},
   "outputs": [
    {
     "name": "stdout",
     "output_type": "stream",
     "text": [
      "Hello\n",
      "\n"
     ]
    }
   ],
   "source": [
    "with tempfile.TemporaryFile(mode=\"w+\") as text_temp_file:\n",
    "    print(\"Hello\", file=text_temp_file)\n",
    "    text_temp_file.seek(0)\n",
    "    print(text_temp_file.read())"
   ]
  },
  {
   "cell_type": "markdown",
   "metadata": {},
   "source": [
    "### Creating a temporary file with a visible name"
   ]
  },
  {
   "cell_type": "code",
   "execution_count": 4,
   "metadata": {},
   "outputs": [
    {
     "name": "stdout",
     "output_type": "stream",
     "text": [
      "Hello world!\n",
      "\n"
     ]
    }
   ],
   "source": [
    "import pathlib\n",
    "\n",
    "with tempfile.NamedTemporaryFile() as named_temp_file:\n",
    "    named_temp_file.write(\"Hello world!\\n\".encode())\n",
    "    named_temp_file.flush()\n",
    "    \n",
    "    file_path = pathlib.Path(named_temp_file.name)\n",
    "    assert file_path.exists()\n",
    "    \n",
    "    with open(file_path, \"r\") as read_file:\n",
    "        print(read_file.read())\n",
    "        \n",
    "# Now the file is gone\n",
    "assert not file_path.exists()"
   ]
  },
  {
   "cell_type": "markdown",
   "metadata": {},
   "source": [
    "### Keeping a named temporary file with `delete=False`"
   ]
  },
  {
   "cell_type": "code",
   "execution_count": 5,
   "metadata": {},
   "outputs": [],
   "source": [
    "with tempfile.NamedTemporaryFile(delete=False) as named_temp_file:\n",
    "    named_temp_file.write(\"Hello world!\\n\".encode())\n",
    "    \n",
    "    file_path = pathlib.Path(named_temp_file.name)\n",
    "    assert file_path.exists()\n",
    "    \n",
    "# The file is still there\n",
    "assert file_path.exists()\n",
    "\n",
    "file_path.unlink()\n",
    "assert not file_path.exists()"
   ]
  },
  {
   "cell_type": "markdown",
   "metadata": {},
   "source": [
    "## Creating a temporary directory"
   ]
  },
  {
   "cell_type": "code",
   "execution_count": 6,
   "metadata": {},
   "outputs": [],
   "source": [
    "with tempfile.TemporaryDirectory() as temp_dir:\n",
    "    assert isinstance(temp_dir, str)\n",
    "    \n",
    "    path = pathlib.Path(temp_dir)\n",
    "    assert path.exists()\n",
    "    assert path.is_dir()\n",
    "\n",
    "assert not path.exists()\n",
    "assert not path.is_dir()"
   ]
  }
 ],
 "metadata": {
  "kernelspec": {
   "display_name": "Python 3",
   "language": "python",
   "name": "python3"
  },
  "language_info": {
   "codemirror_mode": {
    "name": "ipython",
    "version": 3
   },
   "file_extension": ".py",
   "mimetype": "text/x-python",
   "name": "python",
   "nbconvert_exporter": "python",
   "pygments_lexer": "ipython3",
   "version": "3.8.0"
  },
  "toc": {
   "base_numbering": 1,
   "nav_menu": {},
   "number_sections": true,
   "sideBar": true,
   "skip_h1_title": true,
   "title_cell": "Table of Contents",
   "title_sidebar": "Contents",
   "toc_cell": true,
   "toc_position": {},
   "toc_section_display": true,
   "toc_window_display": false
  }
 },
 "nbformat": 4,
 "nbformat_minor": 2
}
