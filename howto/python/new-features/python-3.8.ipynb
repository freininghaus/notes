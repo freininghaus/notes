{
 "cells": [
  {
   "cell_type": "markdown",
   "metadata": {},
   "source": [
    "# New features in Python 3.8\n",
    "This is an incomplete list of examples for new features in Python 3.8. For a full list of changes, see https://docs.python.org/3.8/whatsnew/3.8.html."
   ]
  },
  {
   "cell_type": "markdown",
   "metadata": {},
   "source": [
    "## Assignment expressions\n",
    "There is a new syntax which allows to evaluate an expression and simultaneously assign its value to a variable:"
   ]
  },
  {
   "cell_type": "code",
   "execution_count": 1,
   "metadata": {
    "scrolled": true
   },
   "outputs": [
    {
     "name": "stdout",
     "output_type": "stream",
     "text": [
      "Hello world!\n",
      "This was a message of length 12\n"
     ]
    }
   ],
   "source": [
    "print(msg := \"Hello world!\")\n",
    "print(\"This was a message of length\", len(msg))"
   ]
  },
  {
   "cell_type": "markdown",
   "metadata": {},
   "source": [
    "The operator `:=` is nicknamed *walrus operator* and can improve readability and reduce code complexity, especially in the following situations:"
   ]
  },
  {
   "cell_type": "markdown",
   "metadata": {},
   "source": [
    "### `if` statements, if the expression is needed again in the `True` case:"
   ]
  },
  {
   "cell_type": "code",
   "execution_count": 2,
   "metadata": {},
   "outputs": [
    {
     "name": "stdout",
     "output_type": "stream",
     "text": [
      "Sequence has 5 items, which exceeds the maximum length 4.\n"
     ]
    }
   ],
   "source": [
    "max_length = 4\n",
    "numbers = [1, 2, 3, 4, 5]\n",
    "\n",
    "if (l := len(numbers)) > max_length:\n",
    "    print(f\"Sequence has {l} items, which exceeds the maximum length {max_length}.\")"
   ]
  },
  {
   "cell_type": "code",
   "execution_count": 3,
   "metadata": {},
   "outputs": [
    {
     "name": "stdout",
     "output_type": "stream",
     "text": [
      "The price is 34.90 euros.\n"
     ]
    }
   ],
   "source": [
    "import re\n",
    "price = \"34.9 EUR\"\n",
    "\n",
    "if m := re.fullmatch(r\"(\\d+\\.\\d{0,2})\\s*EUR\", price):\n",
    "    amount_euros = float(m.group(1))\n",
    "    print(f\"The price is {amount_euros:.02f} euros.\")"
   ]
  },
  {
   "cell_type": "markdown",
   "metadata": {},
   "source": [
    "### `while` statements, if the value computed for loop termination is needed again in the body"
   ]
  },
  {
   "cell_type": "code",
   "execution_count": 4,
   "metadata": {},
   "outputs": [
    {
     "name": "stdout",
     "output_type": "stream",
     "text": [
      "54 68 69 73 20 69 73 20    b'This is '\n",
      "61 20 62 75 66 66 65 72    b'a buffer'\n",
      "20 77 69 74 68 20 74 65    b' with te'\n",
      "73 74 20 64 61 74 61 2e    b'st data.'\n",
      "20 54 68 65 20 6c 6f 6f    b' The loo'\n",
      "70 20 77 69 6c 6c 20 70    b'p will p'\n",
      "72 69 6e 74 20 74 68 65    b'rint the'\n",
      "20 62 79 74 65 73 20 69    b' bytes i'\n",
      "6e 20 68 65 78 20 66 6f    b'n hex fo'\n",
      "72 6d 61 74 2e             b'rmat.'\n"
     ]
    }
   ],
   "source": [
    "import io\n",
    "s = io.BytesIO(b\"This is a buffer with test data. The loop will print the bytes in hex format.\")\n",
    "\n",
    "while len(chunk := s.read(8)):\n",
    "    print(\"{:<24}   {}\".format(\" \".join(f\"{byte:02x}\" for byte in chunk), chunk))"
   ]
  },
  {
   "cell_type": "markdown",
   "metadata": {},
   "source": [
    "## Support for self-documenting expressions in f-strings (useful for debugging)\n",
    "The new `=` specifier in f-strings expands to the text of the expression and the representation of the evaluated expression, separated by an equal sign."
   ]
  },
  {
   "cell_type": "code",
   "execution_count": 5,
   "metadata": {},
   "outputs": [
    {
     "name": "stdout",
     "output_type": "stream",
     "text": [
      "elapsed_time=datetime.timedelta(microseconds=57)\n"
     ]
    }
   ],
   "source": [
    "import datetime\n",
    "start =  datetime.datetime.now()\n",
    "elapsed_time = datetime.datetime.now()-start\n",
    "print(f\"{elapsed_time=}\")"
   ]
  },
  {
   "cell_type": "code",
   "execution_count": 6,
   "metadata": {},
   "outputs": [
    {
     "name": "stdout",
     "output_type": "stream",
     "text": [
      "(3 ** 2) / (2 ** 4)=0.562500\n"
     ]
    }
   ],
   "source": [
    "print(f\"{(3 ** 2) / (2 ** 4)=:.6f}\")"
   ]
  }
 ],
 "metadata": {
  "kernelspec": {
   "display_name": "Python 3",
   "language": "python",
   "name": "python3"
  },
  "language_info": {
   "codemirror_mode": {
    "name": "ipython",
    "version": 3
   },
   "file_extension": ".py",
   "mimetype": "text/x-python",
   "name": "python",
   "nbconvert_exporter": "python",
   "pygments_lexer": "ipython3",
   "version": "3.8.0b4"
  }
 },
 "nbformat": 4,
 "nbformat_minor": 2
}
