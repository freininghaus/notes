{
 "cells": [
  {
   "cell_type": "markdown",
   "metadata": {},
   "source": [
    "# Implement a combination of `head` and `tail`\n",
    "While going through a [series of tutorials on awk](https://blog.jpalardy.com/posts/awk-tutorial-part-1/) and reproducing the examples in a [notebook](2020-01-24-why-learn-awk.ipynb), I was looking for a way to process the often lenghty output such that:\n",
    "* the first few lines of the output are always shown,\n",
    "* the last line or the last few lines are always shown, and\n",
    "* if any lines in the middle are omitted, this is indicated in the output."
   ]
  },
  {
   "cell_type": "markdown",
   "metadata": {
    "toc": true
   },
   "source": [
    "<h1>Table of Contents<span class=\"tocSkip\"></span></h1>\n",
    "<div class=\"toc\"><ul class=\"toc-item\"><li><span><a href=\"#Fixed-number-of-head-lines,-single-tail-line\" data-toc-modified-id=\"Fixed-number-of-head-lines,-single-tail-line-1\"><span class=\"toc-item-num\">1&nbsp;&nbsp;</span>Fixed number of head lines, single tail line</a></span><ul class=\"toc-item\"><li><span><a href=\"#First-working-version\" data-toc-modified-id=\"First-working-version-1.1\"><span class=\"toc-item-num\">1.1&nbsp;&nbsp;</span>First working version</a></span></li><li><span><a href=\"#Improved-version\" data-toc-modified-id=\"Improved-version-1.2\"><span class=\"toc-item-num\">1.2&nbsp;&nbsp;</span>Improved version</a></span></li></ul></li><li><span><a href=\"#More-flexibility:-arbitrary-numbers-of-lines-at-head-and-tail\" data-toc-modified-id=\"More-flexibility:-arbitrary-numbers-of-lines-at-head-and-tail-2\"><span class=\"toc-item-num\">2&nbsp;&nbsp;</span>More flexibility: arbitrary numbers of lines at head and tail</a></span></li></ul></div>"
   ]
  },
  {
   "cell_type": "markdown",
   "metadata": {},
   "source": [
    "## Fixed number of head lines, single tail line"
   ]
  },
  {
   "cell_type": "markdown",
   "metadata": {},
   "source": [
    "### First working version\n",
    "I did some research and found some inspiration in these questions and answers:\n",
    "* https://stackoverflow.com/questions/11454343/pipe-output-to-bash-function/11457183#11457183\n",
    "* https://unix.stackexchange.com/questions/139089/how-to-read-first-and-last-line-from-cat-output/139099#139099\n",
    "\n",
    "I then wrote this bash function that can process files or input from stdin:"
   ]
  },
  {
   "cell_type": "code",
   "execution_count": 1,
   "metadata": {},
   "outputs": [],
   "source": [
    "snip-v1() {\n",
    "    awk '{ line = $0 }; NR <= 5 { line = \"\"; print }; NR == 7 { print \"... snip ...\" }; END { print line }' \"$@\"\n",
    "}"
   ]
  },
  {
   "cell_type": "markdown",
   "metadata": {},
   "source": [
    "Note:\n",
    "* Because `\"$@\"` (which can be empty) is passed to awk, this function can work both with input from stdin and with file names that are passed as arguments.\n",
    "* I thought that I needed the extra variable `line` to prevent a duplication of the last line if there are 5 lines or less."
   ]
  },
  {
   "cell_type": "markdown",
   "metadata": {},
   "source": [
    "Let's check that it works as expected:"
   ]
  },
  {
   "cell_type": "code",
   "execution_count": 2,
   "metadata": {},
   "outputs": [
    {
     "name": "stdout",
     "output_type": "stream",
     "text": [
      "1\n",
      "2\n",
      "3\n",
      "4\n",
      "5\n",
      "\n"
     ]
    }
   ],
   "source": [
    "seq 1 5 | snip-v1"
   ]
  },
  {
   "cell_type": "code",
   "execution_count": 3,
   "metadata": {},
   "outputs": [
    {
     "name": "stdout",
     "output_type": "stream",
     "text": [
      "1\n",
      "2\n",
      "3\n",
      "4\n",
      "5\n",
      "6\n"
     ]
    }
   ],
   "source": [
    "seq 1 6 | snip-v1"
   ]
  },
  {
   "cell_type": "code",
   "execution_count": 4,
   "metadata": {},
   "outputs": [
    {
     "name": "stdout",
     "output_type": "stream",
     "text": [
      "1\n",
      "2\n",
      "3\n",
      "4\n",
      "5\n",
      "... snip ...\n",
      "7\n"
     ]
    }
   ],
   "source": [
    "seq 1 7 | snip-v1"
   ]
  },
  {
   "cell_type": "code",
   "execution_count": 5,
   "metadata": {},
   "outputs": [
    {
     "name": "stdout",
     "output_type": "stream",
     "text": [
      "A\n",
      "A's\n",
      "AA's\n",
      "AB's\n",
      "ABM's\n",
      "... snip ...\n",
      "études\n"
     ]
    }
   ],
   "source": [
    "snip-v1 /usr/share/dict/words"
   ]
  },
  {
   "cell_type": "markdown",
   "metadata": {},
   "source": [
    "### Improved version\n",
    "When I found out that awk allows many control structures that are known from C in script blocks,  I realized that the variable `line` is unnecessary."
   ]
  },
  {
   "cell_type": "code",
   "execution_count": 6,
   "metadata": {},
   "outputs": [],
   "source": [
    "snip-v2() {\n",
    "    awk 'NR <= 5; NR == 7 { print \"... snip ...\" }; END { if (NR > 5) print }' \"$@\"\n",
    "}"
   ]
  },
  {
   "cell_type": "code",
   "execution_count": 7,
   "metadata": {},
   "outputs": [
    {
     "name": "stdout",
     "output_type": "stream",
     "text": [
      "1\n",
      "2\n",
      "3\n",
      "4\n",
      "5\n"
     ]
    }
   ],
   "source": [
    "seq 1 5 | snip-v2"
   ]
  },
  {
   "cell_type": "code",
   "execution_count": 8,
   "metadata": {},
   "outputs": [
    {
     "name": "stdout",
     "output_type": "stream",
     "text": [
      "1\n",
      "2\n",
      "3\n",
      "4\n",
      "5\n",
      "6\n"
     ]
    }
   ],
   "source": [
    "seq 1 6 | snip-v2"
   ]
  },
  {
   "cell_type": "code",
   "execution_count": 9,
   "metadata": {},
   "outputs": [
    {
     "name": "stdout",
     "output_type": "stream",
     "text": [
      "1\n",
      "2\n",
      "3\n",
      "4\n",
      "5\n",
      "... snip ...\n",
      "7\n"
     ]
    }
   ],
   "source": [
    "seq 1 7 | snip-v2"
   ]
  },
  {
   "cell_type": "markdown",
   "metadata": {},
   "source": [
    "## More flexibility: arbitrary numbers of lines at head and tail\n",
    "The following function gets two arguments `HEAD` and `TAIL`, which specify the number of lines that are printed at the beginning and end, respectively. Therefore, it can only read from stdin, not from files.\n",
    "\n",
    "After the first `HEAD` lines have been read and printed, the script keeps the last `TAIL` seen lines in a buffer.\n",
    "\n",
    "Finally, the lines in the buffer are printed. Moreover, the number of omitted lines is printed between head and tail."
   ]
  },
  {
   "cell_type": "code",
   "execution_count": 10,
   "metadata": {},
   "outputs": [],
   "source": [
    "head-tail() {\n",
    "    awk -v HEAD=${1:-5} -v TAIL=${2:-1} '\n",
    "    \n",
    "    # If we are still inside the head, print the line and go to the next one\n",
    "    NR <= HEAD { print; next }\n",
    "    \n",
    "    # Update the array \"last\", which contains the last seen lines\n",
    "    { \n",
    "      if (tail_lines < TAIL)\n",
    "        # If less then TAIL lines are in the array, add a new one\n",
    "        tail_lines++\n",
    "      else\n",
    "        # If TAIL lines are in the array already, discard the\n",
    "        # oldest, and shift all other lines by one position\n",
    "        for (i = 1; i < tail_lines; i++)\n",
    "          last[i] = last[i+1]\n",
    "      \n",
    "      # Store the current line\n",
    "      last[tail_lines] = $0\n",
    "    }\n",
    "\n",
    "    END {\n",
    "      omitted = NR - (HEAD + TAIL)\n",
    "      if (omitted == 1)\n",
    "        print \"# 1 line omitted\"\n",
    "      else if (omitted > 0)\n",
    "        print \"# \" omitted \" lines omitted\"\n",
    "\n",
    "      for (i = 1; i <= tail_lines; i++)\n",
    "        print last[i]\n",
    "    }'\n",
    "} "
   ]
  },
  {
   "cell_type": "markdown",
   "metadata": {},
   "source": [
    "Test that it works with some examples:"
   ]
  },
  {
   "cell_type": "code",
   "execution_count": 11,
   "metadata": {},
   "outputs": [
    {
     "name": "stdout",
     "output_type": "stream",
     "text": [
      "1\n",
      "2\n",
      "3\n",
      "4\n",
      "5\n"
     ]
    }
   ],
   "source": [
    "seq 1 5 | head-tail 4 1"
   ]
  },
  {
   "cell_type": "code",
   "execution_count": 12,
   "metadata": {},
   "outputs": [
    {
     "name": "stdout",
     "output_type": "stream",
     "text": [
      "1\n",
      "2\n",
      "3\n",
      "4\n",
      "5\n"
     ]
    }
   ],
   "source": [
    "seq 1 5 | head-tail 4 2"
   ]
  },
  {
   "cell_type": "code",
   "execution_count": 13,
   "metadata": {},
   "outputs": [
    {
     "name": "stdout",
     "output_type": "stream",
     "text": [
      "1\n",
      "2\n",
      "3\n",
      "4\n",
      "5\n"
     ]
    }
   ],
   "source": [
    "seq 1 5 | head-tail 3 2"
   ]
  },
  {
   "cell_type": "code",
   "execution_count": 14,
   "metadata": {},
   "outputs": [
    {
     "name": "stdout",
     "output_type": "stream",
     "text": [
      "1\n",
      "2\n",
      "# 1 line omitted\n",
      "4\n",
      "5\n"
     ]
    }
   ],
   "source": [
    "seq 1 5 | head-tail 2 2"
   ]
  },
  {
   "cell_type": "code",
   "execution_count": 15,
   "metadata": {},
   "outputs": [
    {
     "name": "stdout",
     "output_type": "stream",
     "text": [
      "1\n",
      "# 2 lines omitted\n",
      "4\n",
      "5\n"
     ]
    }
   ],
   "source": [
    "seq 1 5 | head-tail 1 2"
   ]
  }
 ],
 "metadata": {
  "kernelspec": {
   "display_name": "Bash",
   "language": "bash",
   "name": "bash"
  },
  "language_info": {
   "codemirror_mode": "shell",
   "file_extension": ".sh",
   "mimetype": "text/x-sh",
   "name": "bash"
  },
  "toc": {
   "base_numbering": 1,
   "nav_menu": {},
   "number_sections": true,
   "sideBar": true,
   "skip_h1_title": true,
   "title_cell": "Table of Contents",
   "title_sidebar": "Contents",
   "toc_cell": true,
   "toc_position": {},
   "toc_section_display": true,
   "toc_window_display": false
  }
 },
 "nbformat": 4,
 "nbformat_minor": 2
}
