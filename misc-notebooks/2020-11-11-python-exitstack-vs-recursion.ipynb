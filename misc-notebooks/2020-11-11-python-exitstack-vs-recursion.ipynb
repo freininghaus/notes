{
 "cells": [
  {
   "cell_type": "markdown",
   "metadata": {},
   "source": [
    "# Compare `contextlib.ExitStack` with a simple recursive solution for nesting context managers\n",
    "Motivated by https://news.ycombinator.com/item?id=25041793"
   ]
  },
  {
   "cell_type": "markdown",
   "metadata": {
    "toc": true
   },
   "source": [
    "<h1>Table of Contents<span class=\"tocSkip\"></span></h1>\n",
    "<div class=\"toc\"><ul class=\"toc-item\"><li><span><a href=\"#Nesting-multiple-context-managers\" data-toc-modified-id=\"Nesting-multiple-context-managers-1\"><span class=\"toc-item-num\">1&nbsp;&nbsp;</span>Nesting multiple context managers</a></span></li><li><span><a href=\"#Testing\" data-toc-modified-id=\"Testing-2\"><span class=\"toc-item-num\">2&nbsp;&nbsp;</span>Testing</a></span></li><li><span><a href=\"#Small-number-of-context-managers\" data-toc-modified-id=\"Small-number-of-context-managers-3\"><span class=\"toc-item-num\">3&nbsp;&nbsp;</span>Small number of context managers</a></span></li><li><span><a href=\"#Large-number-of-context-managers\" data-toc-modified-id=\"Large-number-of-context-managers-4\"><span class=\"toc-item-num\">4&nbsp;&nbsp;</span>Large number of context managers</a></span></li></ul></div>"
   ]
  },
  {
   "cell_type": "code",
   "execution_count": 1,
   "metadata": {},
   "outputs": [],
   "source": [
    "import contextlib\n",
    "import sys"
   ]
  },
  {
   "cell_type": "markdown",
   "metadata": {},
   "source": [
    "## Nesting multiple context managers\n",
    "In principle, one can nest a list of given context managers with a recursive approach:"
   ]
  },
  {
   "cell_type": "code",
   "execution_count": 2,
   "metadata": {},
   "outputs": [],
   "source": [
    "@contextlib.contextmanager\n",
    "def multi_cm_recursive(first, *others):\n",
    "    with first:\n",
    "        if others:\n",
    "            with multi_cm_recursive(*others):\n",
    "                yield\n",
    "        else:\n",
    "            yield"
   ]
  },
  {
   "cell_type": "markdown",
   "metadata": {},
   "source": [
    "A similar effect can be achieved with `contextlib.ExitStack` from the standard library:"
   ]
  },
  {
   "cell_type": "code",
   "execution_count": 3,
   "metadata": {},
   "outputs": [],
   "source": [
    "@contextlib.contextmanager\n",
    "def multi_cm_ExitStack(*cms):\n",
    "    with contextlib.ExitStack() as stack:\n",
    "        for cm in cms:\n",
    "            stack.enter_context(cm)\n",
    "        yield  "
   ]
  },
  {
   "cell_type": "markdown",
   "metadata": {},
   "source": [
    "## Testing\n",
    "Implement a function that tests the two approaches with an arbitrary number of context managers:"
   ]
  },
  {
   "cell_type": "code",
   "execution_count": 4,
   "metadata": {},
   "outputs": [],
   "source": [
    "def test_nested_cms(func, number):\n",
    "    \"\"\"\n",
    "    Arguments:\n",
    "    * a function that nests context managers\n",
    "    * the number of context managers that shall be used for testing.\n",
    "    \n",
    "    Outputs the number of active context managers before, inside,\n",
    "    and after the 'with' block, such that the correctness can be\n",
    "    checked easily.\n",
    "    \"\"\"\n",
    "    print(f\"Testing {func.__name__}...\")\n",
    "\n",
    "    ACTIVE_CONTEXT_MANAGERS = 0\n",
    "    \n",
    "    def info(where):\n",
    "        print(f\"{ACTIVE_CONTEXT_MANAGERS} context managers active {where} 'with' block\")\n",
    "\n",
    "    @contextlib.contextmanager\n",
    "    def mock_cm():\n",
    "        nonlocal ACTIVE_CONTEXT_MANAGERS\n",
    "        ACTIVE_CONTEXT_MANAGERS += 1\n",
    "        try:\n",
    "            yield\n",
    "        finally:\n",
    "            ACTIVE_CONTEXT_MANAGERS -= 1\n",
    "        \n",
    "    info(\"before\")\n",
    "    try:\n",
    "        with func(*(mock_cm() for _ in range(number))):\n",
    "            info(\"inside\")\n",
    "    except Exception as error:\n",
    "        print(f\"Exception: {error}\", file=sys.stderr)\n",
    "    info(\"after\")\n",
    "    print()"
   ]
  },
  {
   "cell_type": "markdown",
   "metadata": {},
   "source": [
    "## Small number of context managers\n",
    "For 10 nested context managers, both approaches work well:"
   ]
  },
  {
   "cell_type": "code",
   "execution_count": 5,
   "metadata": {},
   "outputs": [
    {
     "name": "stdout",
     "output_type": "stream",
     "text": [
      "Testing multi_cm_recursive...\n",
      "0 context managers active before 'with' block\n",
      "10 context managers active inside 'with' block\n",
      "0 context managers active after 'with' block\n",
      "\n",
      "Testing multi_cm_ExitStack...\n",
      "0 context managers active before 'with' block\n",
      "10 context managers active inside 'with' block\n",
      "0 context managers active after 'with' block\n",
      "\n"
     ]
    }
   ],
   "source": [
    "test_nested_cms(multi_cm_recursive, 10)\n",
    "test_nested_cms(multi_cm_ExitStack, 10)"
   ]
  },
  {
   "cell_type": "markdown",
   "metadata": {},
   "source": [
    "## Large number of context managers\n",
    "The recursive solution exceeds the maximum recursion depth:"
   ]
  },
  {
   "cell_type": "code",
   "execution_count": 6,
   "metadata": {},
   "outputs": [
    {
     "name": "stdout",
     "output_type": "stream",
     "text": [
      "Testing multi_cm_recursive...\n",
      "0 context managers active before 'with' block\n",
      "0 context managers active after 'with' block\n",
      "\n"
     ]
    },
    {
     "name": "stderr",
     "output_type": "stream",
     "text": [
      "Exception: maximum recursion depth exceeded while calling a Python object\n"
     ]
    }
   ],
   "source": [
    "test_nested_cms(multi_cm_recursive, 1000)"
   ]
  },
  {
   "cell_type": "markdown",
   "metadata": {},
   "source": [
    "`contextlib.ExitStack` works also with many nested context managers:"
   ]
  },
  {
   "cell_type": "code",
   "execution_count": 7,
   "metadata": {},
   "outputs": [
    {
     "name": "stdout",
     "output_type": "stream",
     "text": [
      "Testing multi_cm_ExitStack...\n",
      "0 context managers active before 'with' block\n",
      "1000 context managers active inside 'with' block\n",
      "0 context managers active after 'with' block\n",
      "\n"
     ]
    }
   ],
   "source": [
    "test_nested_cms(multi_cm_ExitStack, 1000)"
   ]
  }
 ],
 "metadata": {
  "kernelspec": {
   "display_name": "Python 3",
   "language": "python",
   "name": "python3"
  },
  "language_info": {
   "codemirror_mode": {
    "name": "ipython",
    "version": 3
   },
   "file_extension": ".py",
   "mimetype": "text/x-python",
   "name": "python",
   "nbconvert_exporter": "python",
   "pygments_lexer": "ipython3",
   "version": "3.8.0"
  },
  "toc": {
   "base_numbering": 1,
   "nav_menu": {},
   "number_sections": true,
   "sideBar": true,
   "skip_h1_title": true,
   "title_cell": "Table of Contents",
   "title_sidebar": "Contents",
   "toc_cell": true,
   "toc_position": {},
   "toc_section_display": true,
   "toc_window_display": false
  }
 },
 "nbformat": 4,
 "nbformat_minor": 2
}
