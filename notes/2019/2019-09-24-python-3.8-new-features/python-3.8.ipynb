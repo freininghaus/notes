{
 "cells": [
  {
   "cell_type": "markdown",
   "metadata": {},
   "source": [
    "# New features in Python 3.8\n",
    "This is an incomplete list of examples for new features in Python 3.8. For a full list of changes, see https://docs.python.org/3.8/whatsnew/3.8.html."
   ]
  },
  {
   "cell_type": "markdown",
   "metadata": {
    "toc": true
   },
   "source": [
    "<h1>Table of Contents<span class=\"tocSkip\"></span></h1>\n",
    "<div class=\"toc\"><ul class=\"toc-item\"><li><span><a href=\"#Assignment-expressions\" data-toc-modified-id=\"Assignment-expressions-1\"><span class=\"toc-item-num\">1&nbsp;&nbsp;</span>Assignment expressions</a></span><ul class=\"toc-item\"><li><span><a href=\"#if-statements,-if-the-expression-is-needed-again-in-the-True-case\" data-toc-modified-id=\"if-statements,-if-the-expression-is-needed-again-in-the-True-case-1.1\"><span class=\"toc-item-num\">1.1&nbsp;&nbsp;</span><code>if</code> statements, if the expression is needed again in the <code>True</code> case</a></span></li><li><span><a href=\"#while-statements,-if-the-value-computed-for-loop-termination-is-needed-again-in-the-body\" data-toc-modified-id=\"while-statements,-if-the-value-computed-for-loop-termination-is-needed-again-in-the-body-1.2\"><span class=\"toc-item-num\">1.2&nbsp;&nbsp;</span><code>while</code> statements, if the value computed for loop termination is needed again in the body</a></span></li><li><span><a href=\"#dict-comprehensions,-if-similar-computations-are-needed-for-keys-and-values\" data-toc-modified-id=\"dict-comprehensions,-if-similar-computations-are-needed-for-keys-and-values-1.3\"><span class=\"toc-item-num\">1.3&nbsp;&nbsp;</span><code>dict</code> comprehensions, if similar computations are needed for keys and values</a></span></li></ul></li><li><span><a href=\"#Self-documenting-expressions-in-f-strings-(useful-for-debugging)\" data-toc-modified-id=\"Self-documenting-expressions-in-f-strings-(useful-for-debugging)-2\"><span class=\"toc-item-num\">2&nbsp;&nbsp;</span>Self-documenting expressions in f-strings (useful for debugging)</a></span><ul class=\"toc-item\"><li><span><a href=\"#Support-for-format-specifiers-after-the-equal-sign\" data-toc-modified-id=\"Support-for-format-specifiers-after-the-equal-sign-2.1\"><span class=\"toc-item-num\">2.1&nbsp;&nbsp;</span>Support for format specifiers after the equal sign</a></span></li></ul></li></ul></div>"
   ]
  },
  {
   "cell_type": "markdown",
   "metadata": {},
   "source": [
    "# TODO\n",
    "* `typing.TypedDict`: https://docs.python.org/3.8/whatsnew/3.8.html#typing\n",
    "* `typing.Literal`: https://docs.python.org/3.8/whatsnew/3.8.html#typing\n",
    "* testing coroutines: https://docs.python.org/3.8/whatsnew/3.8.html#unittest\n",
    "* `AsyncMock`: https://docs.python.org/3.8/whatsnew/3.8.html#unittest"
   ]
  },
  {
   "cell_type": "markdown",
   "metadata": {},
   "source": [
    "## Assignment expressions\n",
    "There is a new syntax which allows to evaluate an expression and simultaneously assign its value to a variable:"
   ]
  },
  {
   "cell_type": "code",
   "execution_count": 1,
   "metadata": {
    "scrolled": true
   },
   "outputs": [
    {
     "name": "stdout",
     "output_type": "stream",
     "text": [
      "Hello world!\n",
      "This was a message of length 12\n"
     ]
    }
   ],
   "source": [
    "print(msg := \"Hello world!\")\n",
    "print(\"This was a message of length\", len(msg))"
   ]
  },
  {
   "cell_type": "markdown",
   "metadata": {},
   "source": [
    "The operator `:=` is nicknamed *walrus operator* and can improve readability and reduce code complexity, especially in the following situations:"
   ]
  },
  {
   "cell_type": "markdown",
   "metadata": {},
   "source": [
    "### `if` statements, if the expression is needed again in the `True` case"
   ]
  },
  {
   "cell_type": "code",
   "execution_count": 2,
   "metadata": {},
   "outputs": [
    {
     "name": "stdout",
     "output_type": "stream",
     "text": [
      "Sequence has 5 items, which exceeds the maximum length 4.\n"
     ]
    }
   ],
   "source": [
    "max_length = 4\n",
    "numbers = [1, 2, 3, 4, 5]\n",
    "\n",
    "if (l := len(numbers)) > max_length:\n",
    "    print(f\"Sequence has {l} items, which exceeds the maximum length {max_length}.\")"
   ]
  },
  {
   "cell_type": "code",
   "execution_count": 3,
   "metadata": {},
   "outputs": [
    {
     "name": "stdout",
     "output_type": "stream",
     "text": [
      "The price is 34.90 euros.\n"
     ]
    }
   ],
   "source": [
    "import re\n",
    "price = \"34.9 EUR\"\n",
    "\n",
    "if m := re.fullmatch(r\"(\\d+\\.\\d{0,2})\\s*EUR\", price):\n",
    "    amount_euros = float(m.group(1))\n",
    "    print(f\"The price is {amount_euros:.02f} euros.\")"
   ]
  },
  {
   "cell_type": "markdown",
   "metadata": {},
   "source": [
    "### `while` statements, if the value computed for loop termination is needed again in the body"
   ]
  },
  {
   "cell_type": "code",
   "execution_count": 4,
   "metadata": {},
   "outputs": [
    {
     "name": "stdout",
     "output_type": "stream",
     "text": [
      "54 68 69 73 20 69 73 20 61 20 62 75 66 66 65 72    b'This is a buffer'\n",
      "20 77 69 74 68 20 74 65 73 74 20 64 61 74 61 2e    b' with test data.'\n",
      "20 54 68 65 20 6c 6f 6f 70 20 77 69 6c 6c 20 70    b' The loop will p'\n",
      "72 69 6e 74 20 74 68 65 20 62 79 74 65 73 20 69    b'rint the bytes i'\n",
      "6e 20 68 65 78 20 66 6f 72 6d 61 74 2e             b'n hex format.'\n"
     ]
    }
   ],
   "source": [
    "import io\n",
    "s = io.BytesIO(b\"This is a buffer with test data. The loop will print the bytes in hex format.\")\n",
    "\n",
    "while len(chunk := s.read(16)):\n",
    "    print(\"{:<48}   {}\".format(\" \".join(f\"{byte:02x}\" for byte in chunk), chunk))"
   ]
  },
  {
   "cell_type": "markdown",
   "metadata": {},
   "source": [
    "### `dict` comprehensions, if similar computations are needed for keys and values"
   ]
  },
  {
   "cell_type": "code",
   "execution_count": 5,
   "metadata": {},
   "outputs": [
    {
     "name": "stdout",
     "output_type": "stream",
     "text": [
      "{1: 1, 2: 4, 3: 9, 4: 16, 5: 25, 6: 36, 7: 49, 8: 64, 9: 81, 10: 100}\n"
     ]
    }
   ],
   "source": [
    "numbers = \"1 2 3 4 5 6 7 8 9 10\"\n",
    "squares = { (n := int(s)): n ** 2 for s in numbers.split(\" \")}\n",
    "print(squares)"
   ]
  },
  {
   "cell_type": "markdown",
   "metadata": {},
   "source": [
    "## Self-documenting expressions in f-strings (useful for debugging)\n",
    "The new `=` specifier in f-strings expands to the text of the expression and the representation of the evaluated expression, separated by an equal sign."
   ]
  },
  {
   "cell_type": "code",
   "execution_count": 6,
   "metadata": {},
   "outputs": [
    {
     "name": "stdout",
     "output_type": "stream",
     "text": [
      "len(items)=5\n"
     ]
    }
   ],
   "source": [
    "items = [1, 2, 3, 4, 5]\n",
    "print(f\"{len(items)=}\")"
   ]
  },
  {
   "cell_type": "code",
   "execution_count": 7,
   "metadata": {},
   "outputs": [
    {
     "name": "stdout",
     "output_type": "stream",
     "text": [
      "nested['a'][0]['b']['c'][0]=42\n"
     ]
    }
   ],
   "source": [
    "nested = {\"a\": [{\"b\": {\"c\": [42]}}]}\n",
    "print(f\"{nested['a'][0]['b']['c'][0]=}\")"
   ]
  },
  {
   "cell_type": "code",
   "execution_count": 8,
   "metadata": {},
   "outputs": [
    {
     "name": "stdout",
     "output_type": "stream",
     "text": [
      "elapsed_time=datetime.timedelta(microseconds=46)\n"
     ]
    }
   ],
   "source": [
    "import datetime\n",
    "start =  datetime.datetime.now()\n",
    "elapsed_time = datetime.datetime.now()-start\n",
    "print(f\"{elapsed_time=}\")"
   ]
  },
  {
   "cell_type": "markdown",
   "metadata": {},
   "source": [
    "### Support for format specifiers after the equal sign"
   ]
  },
  {
   "cell_type": "code",
   "execution_count": 9,
   "metadata": {},
   "outputs": [
    {
     "name": "stdout",
     "output_type": "stream",
     "text": [
      "(3 ** 2) / (2 ** 4)=0.562500\n"
     ]
    }
   ],
   "source": [
    "print(f\"{(3 ** 2) / (2 ** 4)=:.6f}\")"
   ]
  }
 ],
 "metadata": {
  "kernelspec": {
   "display_name": "Python 3",
   "language": "python",
   "name": "python3"
  },
  "language_info": {
   "codemirror_mode": {
    "name": "ipython",
    "version": 3
   },
   "file_extension": ".py",
   "mimetype": "text/x-python",
   "name": "python",
   "nbconvert_exporter": "python",
   "pygments_lexer": "ipython3",
   "version": "3.8.0"
  },
  "toc": {
   "base_numbering": 1,
   "nav_menu": {},
   "number_sections": true,
   "sideBar": true,
   "skip_h1_title": true,
   "title_cell": "Table of Contents",
   "title_sidebar": "Contents",
   "toc_cell": true,
   "toc_position": {},
   "toc_section_display": true,
   "toc_window_display": true
  }
 },
 "nbformat": 4,
 "nbformat_minor": 2
}
