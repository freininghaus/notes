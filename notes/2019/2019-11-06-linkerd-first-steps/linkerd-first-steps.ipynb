{
 "cells": [
  {
   "cell_type": "markdown",
   "metadata": {},
   "source": [
    "# First steps with Linkerd 2.0\n",
    "In this notebook, we explore the service mesh Linkerd 2.0.\n",
    "\n",
    "References:\n",
    "* https://kubernetes.io/blog/2018/09/18/hands-on-with-linkerd-2.0/\n",
    "* https://linkerd.io/2/getting-started/"
   ]
  },
  {
   "cell_type": "markdown",
   "metadata": {
    "toc": true
   },
   "source": [
    "<h1>Table of Contents<span class=\"tocSkip\"></span></h1>\n",
    "<div class=\"toc\"><ul class=\"toc-item\"><li><span><a href=\"#Set-up-a-local-single-node-Kubernetes-cluster\" data-toc-modified-id=\"Set-up-a-local-single-node-Kubernetes-cluster-1\"><span class=\"toc-item-num\">1&nbsp;&nbsp;</span>Set up a local single-node Kubernetes cluster</a></span></li><li><span><a href=\"#Set-up-a-demo-application-in-the-Kubernetes-cluster\" data-toc-modified-id=\"Set-up-a-demo-application-in-the-Kubernetes-cluster-2\"><span class=\"toc-item-num\">2&nbsp;&nbsp;</span>Set up a demo application in the Kubernetes cluster</a></span><ul class=\"toc-item\"><li><span><a href=\"#Deploy-the-demo-app-emojivoto\" data-toc-modified-id=\"Deploy-the-demo-app-emojivoto-2.1\"><span class=\"toc-item-num\">2.1&nbsp;&nbsp;</span>Deploy the demo app <em>emojivoto</em></a></span></li><li><span><a href=\"#Find-out-on-which-port-the-service-is-running\" data-toc-modified-id=\"Find-out-on-which-port-the-service-is-running-2.2\"><span class=\"toc-item-num\">2.2&nbsp;&nbsp;</span>Find out on which port the service is running</a></span></li><li><span><a href=\"#Map-the-port-to-a-port-on-the-host-system-with-`kubectl-port-forward'\" data-toc-modified-id=\"Map-the-port-to-a-port-on-the-host-system-with-`kubectl-port-forward'-2.3\"><span class=\"toc-item-num\">2.3&nbsp;&nbsp;</span>Map the port to a port on the host system with `kubectl port-forward'</a></span></li></ul></li><li><span><a href=\"#Set-up-Linkderd-2\" data-toc-modified-id=\"Set-up-Linkderd-2-3\"><span class=\"toc-item-num\">3&nbsp;&nbsp;</span>Set up Linkderd 2</a></span><ul class=\"toc-item\"><li><span><a href=\"#Install-Linkerd-2-in-the-user's-home-directory\" data-toc-modified-id=\"Install-Linkerd-2-in-the-user's-home-directory-3.1\"><span class=\"toc-item-num\">3.1&nbsp;&nbsp;</span>Install Linkerd 2 in the user's home directory</a></span></li><li><span><a href=\"#Deploy-Linkerd’s-control-plane-to-the-cluster\" data-toc-modified-id=\"Deploy-Linkerd’s-control-plane-to-the-cluster-3.2\"><span class=\"toc-item-num\">3.2&nbsp;&nbsp;</span>Deploy Linkerd’s control plane to the cluster</a></span></li><li><span><a href=\"#Add-Linkerd-to-the-web-service\" data-toc-modified-id=\"Add-Linkerd-to-the-web-service-3.3\"><span class=\"toc-item-num\">3.3&nbsp;&nbsp;</span>Add Linkerd to the web service</a></span></li></ul></li><li><span><a href=\"#Shut-down-the-Kubernetes-cluster\" data-toc-modified-id=\"Shut-down-the-Kubernetes-cluster-4\"><span class=\"toc-item-num\">4&nbsp;&nbsp;</span>Shut down the Kubernetes cluster</a></span></li></ul></div>"
   ]
  },
  {
   "cell_type": "markdown",
   "metadata": {},
   "source": [
    "## Set up a local single-node Kubernetes cluster\n",
    "To see how this works, look at [setting-up-k8s-cluster-with-kind.ipynb](setting-up-k8s-cluster-with-kind.ipynb)"
   ]
  },
  {
   "cell_type": "code",
   "execution_count": 1,
   "metadata": {},
   "outputs": [
    {
     "name": "stdout",
     "output_type": "stream",
     "text": [
      "Creating cluster \"linkerd-test\" ...\n",
      " ✓ Ensuring node image (kindest/node:v1.15.3) 🖼\n",
      " ✓ Preparing nodes 📦 \n",
      " ✓ Creating kubeadm config 📜 \n",
      " ✓ Starting control-plane 🕹️ \n",
      " ✓ Installing CNI 🔌 \n",
      " ✓ Installing StorageClass 💾 \n",
      "Cluster creation complete. You can now use the cluster with:\n",
      "\n",
      "export KUBECONFIG=\"$(kind get kubeconfig-path --name=\"linkerd-test\")\"\n",
      "kubectl cluster-info\n"
     ]
    }
   ],
   "source": [
    ". kubernetes-utils\n",
    "create-kind-cluster linkerd-test"
   ]
  },
  {
   "cell_type": "markdown",
   "metadata": {},
   "source": [
    "## Set up a demo application in the Kubernetes cluster"
   ]
  },
  {
   "cell_type": "markdown",
   "metadata": {},
   "source": [
    "### Deploy the demo app *emojivoto*\n",
    "Note that we use `kubectl rollout status` to wait until the deployments are finished. Unfortunately, we cannot pass `emojivoto.yml` to this command directly because it only supports files which contain exactly one deployment, see, e.g., https://github.com/kubernetes/kubernetes/issues/72216"
   ]
  },
  {
   "cell_type": "code",
   "execution_count": 2,
   "metadata": {},
   "outputs": [
    {
     "name": "stdout",
     "output_type": "stream",
     "text": [
      "namespace/emojivoto created\n",
      "serviceaccount/emoji created\n",
      "serviceaccount/voting created\n",
      "serviceaccount/web created\n",
      "deployment.apps/emoji created\n",
      "service/emoji-svc created\n",
      "deployment.apps/voting created\n",
      "service/voting-svc created\n",
      "deployment.apps/web created\n",
      "service/web-svc created\n",
      "deployment.apps/vote-bot created\n",
      "Waiting for deployment \"emoji\" rollout to finish: 0 of 1 updated replicas are available...\n",
      "deployment \"emoji\" successfully rolled out\n",
      "error: the server doesn't have a resource type \"voting\"\n",
      "Waiting for deployment \"web\" rollout to finish: 0 of 1 updated replicas are available...\n",
      "deployment \"web\" successfully rolled out\n",
      "Waiting for deployment \"vote-bot\" rollout to finish: 0 of 1 updated replicas are available...\n",
      "deployment \"vote-bot\" successfully rolled out\n"
     ]
    }
   ],
   "source": [
    "export EMOJIVOTO=download/emojivoto.yml\n",
    "\n",
    "if [ ! -f $EMOJIVOTO ]; then\n",
    "    mkdir -p download\n",
    "    curl -s https://run.linkerd.io/emojivoto.yml -o $EMOJIVOTO\n",
    "fi\n",
    "\n",
    "kubectl apply -f $EMOJIVOTO\n",
    "\n",
    "kubectl rollout status -n emojivoto deployment emoji\n",
    "kubectl rollout status -n emojivotodeployment voting\n",
    "kubectl rollout status -n emojivoto deployment web\n",
    "kubectl rollout status -n emojivoto deployment vote-bot"
   ]
  },
  {
   "cell_type": "markdown",
   "metadata": {},
   "source": [
    "### Find out on which port the service is running"
   ]
  },
  {
   "cell_type": "code",
   "execution_count": 3,
   "metadata": {},
   "outputs": [
    {
     "name": "stdout",
     "output_type": "stream",
     "text": [
      "NAME                            READY   STATUS    RESTARTS   AGE\n",
      "pod/emoji-7bc9fb68b4-vt97g      1/1     Running   0          49s\n",
      "pod/vote-bot-5648545766-ckjjx   1/1     Running   0          49s\n",
      "pod/voting-7c846d6bb9-snsm5     1/1     Running   0          49s\n",
      "pod/web-ff65d94cd-zv6tm         1/1     Running   0          49s\n",
      "\n",
      "\n",
      "NAME                 TYPE           CLUSTER-IP    EXTERNAL-IP   PORT(S)        AGE\n",
      "service/emoji-svc    ClusterIP      None          <none>        8080/TCP       49s\n",
      "service/voting-svc   ClusterIP      None          <none>        8080/TCP       49s\n",
      "service/web-svc      LoadBalancer   10.97.83.10   <pending>     80:31361/TCP   49s\n",
      "\n",
      "\n",
      "NAME                       READY   UP-TO-DATE   AVAILABLE   AGE\n",
      "deployment.apps/emoji      1/1     1            1           49s\n",
      "deployment.apps/vote-bot   1/1     1            1           49s\n",
      "deployment.apps/voting     1/1     1            1           49s\n",
      "deployment.apps/web        1/1     1            1           49s\n",
      "\n",
      "NAME                                  DESIRED   CURRENT   READY   AGE\n",
      "replicaset.apps/emoji-7bc9fb68b4      1         1         1       49s\n",
      "replicaset.apps/vote-bot-5648545766   1         1         1       49s\n",
      "replicaset.apps/voting-7c846d6bb9     1         1         1       49s\n",
      "replicaset.apps/web-ff65d94cd         1         1         1       49s\n",
      "\n",
      "\n",
      "\n",
      "\n"
     ]
    }
   ],
   "source": [
    "kubectl get all -n emojivoto"
   ]
  },
  {
   "cell_type": "code",
   "execution_count": 4,
   "metadata": {},
   "outputs": [
    {
     "name": "stdout",
     "output_type": "stream",
     "text": [
      "NAME         TYPE           CLUSTER-IP    EXTERNAL-IP   PORT(S)        AGE\n",
      "emoji-svc    ClusterIP      None          <none>        8080/TCP       50s\n",
      "voting-svc   ClusterIP      None          <none>        8080/TCP       50s\n",
      "web-svc      LoadBalancer   10.97.83.10   <pending>     80:31361/TCP   50s\n"
     ]
    }
   ],
   "source": [
    "kubectl get -n emojivoto services"
   ]
  },
  {
   "cell_type": "code",
   "execution_count": 5,
   "metadata": {},
   "outputs": [
    {
     "name": "stdout",
     "output_type": "stream",
     "text": [
      "80\n"
     ]
    }
   ],
   "source": [
    "# Note that kubectl port-forward needs the service port *inside the container*\n",
    "EMOJIVOTO_WEB_PORT=$(kubectl get -n emojivoto services | grep web-svc | sed -E 's/^.*\\s([0-9]+):[0-9]+\\/TCP.*$/\\1/g')\n",
    "echo $EMOJIVOTO_WEB_PORT"
   ]
  },
  {
   "cell_type": "markdown",
   "metadata": {},
   "source": [
    "### Map the port to a port on the host system with `kubectl port-forward'"
   ]
  },
  {
   "cell_type": "code",
   "execution_count": 6,
   "metadata": {},
   "outputs": [
    {
     "name": "stdout",
     "output_type": "stream",
     "text": [
      "Setting up access to the emoji vote service at http://127.0.0.1:8097\n",
      "[1] 14103\n"
     ]
    }
   ],
   "source": [
    "# Just choose a port which is hopefully unused on the local system\n",
    "LOCAL_WEB_PORT=8097\n",
    "echo \"Setting up access to the emoji vote service at http://127.0.0.1:$LOCAL_WEB_PORT\"\n",
    "kubectl port-forward -n emojivoto service/web-svc $LOCAL_WEB_PORT:$EMOJIVOTO_WEB_PORT > /dev/null &"
   ]
  },
  {
   "cell_type": "markdown",
   "metadata": {},
   "source": [
    "## Set up Linkderd 2"
   ]
  },
  {
   "cell_type": "markdown",
   "metadata": {},
   "source": [
    "### Install Linkerd 2 in the user's home directory"
   ]
  },
  {
   "cell_type": "code",
   "execution_count": 7,
   "metadata": {},
   "outputs": [
    {
     "name": "stdout",
     "output_type": "stream",
     "text": [
      "Client version: stable-2.5.0\n",
      "Server version: unavailable\n"
     ]
    }
   ],
   "source": [
    "if [ ! -d $HOME/.linkerd2 ]; then\n",
    "    curl -sL https://run.linkerd.io/install | sh\n",
    "    echo\n",
    "fi\n",
    "\n",
    "export PATH=$PATH:$HOME/.linkerd2/bin\n",
    "\n",
    "linkerd version"
   ]
  },
  {
   "cell_type": "markdown",
   "metadata": {},
   "source": [
    "### Deploy Linkerd’s control plane to the cluster"
   ]
  },
  {
   "cell_type": "code",
   "execution_count": 8,
   "metadata": {},
   "outputs": [
    {
     "name": "stdout",
     "output_type": "stream",
     "text": [
      "kubernetes-api\n",
      "--------------\n",
      "\u001b[32;1m√\u001b[0m can initialize the client\n",
      "\u001b[32;1m√\u001b[0m can query the Kubernetes API\n",
      "\n",
      "kubernetes-version\n",
      "------------------\n",
      "\u001b[32;1m√\u001b[0m is running the minimum Kubernetes API version\n",
      "\u001b[32;1m√\u001b[0m is running the minimum kubectl version\n",
      "\n",
      "pre-kubernetes-setup\n",
      "--------------------\n",
      "\u001b[32;1m√\u001b[0m control plane namespace does not already exist\n",
      "\u001b[32;1m√\u001b[0m can create Namespaces\n",
      "\u001b[32;1m√\u001b[0m can create ClusterRoles\n",
      "\u001b[32;1m√\u001b[0m can create ClusterRoleBindings\n",
      "\u001b[32;1m√\u001b[0m can create CustomResourceDefinitions\n",
      "\u001b[32;1m√\u001b[0m can create PodSecurityPolicies\n",
      "\u001b[32;1m√\u001b[0m can create ServiceAccounts\n",
      "\u001b[32;1m√\u001b[0m can create Services\n",
      "\u001b[32;1m√\u001b[0m can create Deployments\n",
      "\u001b[32;1m√\u001b[0m can create CronJobs\n",
      "\u001b[32;1m√\u001b[0m can create ConfigMaps\n",
      "\u001b[32;1m√\u001b[0m no clock skew detected\n",
      "\n",
      "pre-kubernetes-capability\n",
      "-------------------------\n",
      "\u001b[32;1m√\u001b[0m has NET_ADMIN capability\n",
      "\u001b[32;1m√\u001b[0m has NET_RAW capability\n",
      "\n",
      "pre-linkerd-global-resources\n",
      "----------------------------\n",
      "\u001b[32;1m√\u001b[0m no ClusterRoles exist\n",
      "\u001b[32;1m√\u001b[0m no ClusterRoleBindings exist\n",
      "\u001b[32;1m√\u001b[0m no CustomResourceDefinitions exist\n",
      "\u001b[32;1m√\u001b[0m no MutatingWebhookConfigurations exist\n",
      "\u001b[32;1m√\u001b[0m no ValidatingWebhookConfigurations exist\n",
      "\u001b[32;1m√\u001b[0m no PodSecurityPolicies exist\n",
      "\n",
      "linkerd-version\n",
      "---------------\n",
      "\u001b[32;1m√\u001b[0m can determine the latest version\n",
      "\u001b[32;1m√\u001b[0m cli is up-to-date\n",
      "\n",
      "Status check results are \u001b[32;1m√\u001b[0m\n"
     ]
    }
   ],
   "source": [
    "linkerd check --pre"
   ]
  },
  {
   "cell_type": "code",
   "execution_count": 9,
   "metadata": {},
   "outputs": [
    {
     "name": "stdout",
     "output_type": "stream",
     "text": [
      "namespace/linkerd created\n",
      "clusterrole.rbac.authorization.k8s.io/linkerd-linkerd-identity created\n",
      "clusterrolebinding.rbac.authorization.k8s.io/linkerd-linkerd-identity created\n",
      "serviceaccount/linkerd-identity created\n",
      "clusterrole.rbac.authorization.k8s.io/linkerd-linkerd-controller created\n",
      "clusterrolebinding.rbac.authorization.k8s.io/linkerd-linkerd-controller created\n",
      "serviceaccount/linkerd-controller created\n",
      "role.rbac.authorization.k8s.io/linkerd-heartbeat created\n",
      "rolebinding.rbac.authorization.k8s.io/linkerd-heartbeat created\n",
      "serviceaccount/linkerd-heartbeat created\n",
      "clusterrolebinding.rbac.authorization.k8s.io/linkerd-linkerd-web-admin created\n",
      "serviceaccount/linkerd-web created\n",
      "customresourcedefinition.apiextensions.k8s.io/serviceprofiles.linkerd.io created\n",
      "customresourcedefinition.apiextensions.k8s.io/trafficsplits.split.smi-spec.io created\n",
      "clusterrole.rbac.authorization.k8s.io/linkerd-linkerd-prometheus created\n",
      "clusterrolebinding.rbac.authorization.k8s.io/linkerd-linkerd-prometheus created\n",
      "serviceaccount/linkerd-prometheus created\n",
      "serviceaccount/linkerd-grafana created\n",
      "clusterrole.rbac.authorization.k8s.io/linkerd-linkerd-proxy-injector created\n",
      "clusterrolebinding.rbac.authorization.k8s.io/linkerd-linkerd-proxy-injector created\n",
      "serviceaccount/linkerd-proxy-injector created\n",
      "secret/linkerd-proxy-injector-tls created\n",
      "mutatingwebhookconfiguration.admissionregistration.k8s.io/linkerd-proxy-injector-webhook-config created\n",
      "clusterrole.rbac.authorization.k8s.io/linkerd-linkerd-sp-validator created\n",
      "clusterrolebinding.rbac.authorization.k8s.io/linkerd-linkerd-sp-validator created\n",
      "serviceaccount/linkerd-sp-validator created\n",
      "secret/linkerd-sp-validator-tls created\n",
      "validatingwebhookconfiguration.admissionregistration.k8s.io/linkerd-sp-validator-webhook-config created\n",
      "clusterrole.rbac.authorization.k8s.io/linkerd-linkerd-tap created\n",
      "clusterrole.rbac.authorization.k8s.io/linkerd-linkerd-tap-admin created\n",
      "clusterrolebinding.rbac.authorization.k8s.io/linkerd-linkerd-tap created\n",
      "clusterrolebinding.rbac.authorization.k8s.io/linkerd-linkerd-tap-auth-delegator created\n",
      "serviceaccount/linkerd-tap created\n",
      "rolebinding.rbac.authorization.k8s.io/linkerd-linkerd-tap-auth-reader created\n",
      "secret/linkerd-tap-tls created\n",
      "apiservice.apiregistration.k8s.io/v1alpha1.tap.linkerd.io created\n",
      "podsecuritypolicy.policy/linkerd-linkerd-control-plane created\n",
      "role.rbac.authorization.k8s.io/linkerd-psp created\n",
      "rolebinding.rbac.authorization.k8s.io/linkerd-psp created\n",
      "configmap/linkerd-config created\n",
      "secret/linkerd-identity-issuer created\n",
      "service/linkerd-identity created\n",
      "deployment.apps/linkerd-identity created\n",
      "service/linkerd-controller-api created\n",
      "service/linkerd-destination created\n",
      "deployment.apps/linkerd-controller created\n",
      "cronjob.batch/linkerd-heartbeat created\n",
      "service/linkerd-web created\n",
      "deployment.apps/linkerd-web created\n",
      "configmap/linkerd-prometheus-config created\n",
      "service/linkerd-prometheus created\n",
      "deployment.apps/linkerd-prometheus created\n",
      "configmap/linkerd-grafana-config created\n",
      "service/linkerd-grafana created\n",
      "deployment.apps/linkerd-grafana created\n",
      "deployment.apps/linkerd-proxy-injector created\n",
      "service/linkerd-proxy-injector created\n",
      "service/linkerd-sp-validator created\n",
      "deployment.apps/linkerd-sp-validator created\n",
      "service/linkerd-tap created\n",
      "deployment.apps/linkerd-tap created\n",
      "Waiting for deployment \"linkerd-identity\" rollout to finish: 0 of 1 updated replicas are available...\n",
      "deployment \"linkerd-identity\" successfully rolled out\n",
      "Waiting for deployment \"linkerd-controller\" rollout to finish: 0 of 1 updated replicas are available...\n",
      "deployment \"linkerd-controller\" successfully rolled out\n",
      "Waiting for deployment \"linkerd-web\" rollout to finish: 0 of 1 updated replicas are available...\n",
      "deployment \"linkerd-web\" successfully rolled out\n",
      "Waiting for deployment \"linkerd-prometheus\" rollout to finish: 0 of 1 updated replicas are available...\n",
      "deployment \"linkerd-prometheus\" successfully rolled out\n",
      "deployment \"linkerd-grafana\" successfully rolled out\n",
      "deployment \"linkerd-proxy-injector\" successfully rolled out\n",
      "deployment \"linkerd-sp-validator\" successfully rolled out\n",
      "deployment \"linkerd-tap\" successfully rolled out\n"
     ]
    }
   ],
   "source": [
    "linkerd install | kubectl apply -f -\n",
    "\n",
    "kubectl rollout status -n linkerd deploy linkerd-identity\n",
    "kubectl rollout status -n linkerd deploy linkerd-controller\n",
    "kubectl rollout status -n linkerd deploy linkerd-web\n",
    "kubectl rollout status -n linkerd deploy linkerd-prometheus\n",
    "kubectl rollout status -n linkerd deploy linkerd-grafana\n",
    "kubectl rollout status -n linkerd deploy linkerd-proxy-injector\n",
    "kubectl rollout status -n linkerd deploy linkerd-sp-validator\n",
    "kubectl rollout status -n linkerd deploy linkerd-tap"
   ]
  },
  {
   "cell_type": "code",
   "execution_count": 10,
   "metadata": {},
   "outputs": [
    {
     "name": "stdout",
     "output_type": "stream",
     "text": [
      "kubernetes-api\n",
      "--------------\n",
      "\u001b[32;1m√\u001b[0m can initialize the client\n",
      "\u001b[32;1m√\u001b[0m can query the Kubernetes API\n",
      "\n",
      "kubernetes-version\n",
      "------------------\n",
      "\u001b[32;1m√\u001b[0m is running the minimum Kubernetes API version\n",
      "\u001b[32;1m√\u001b[0m is running the minimum kubectl version\n",
      "\n",
      "linkerd-config\n",
      "--------------\n",
      "\u001b[32;1m√\u001b[0m control plane Namespace exists\n",
      "\u001b[32;1m√\u001b[0m control plane ClusterRoles exist\n",
      "\u001b[32;1m√\u001b[0m control plane ClusterRoleBindings exist\n",
      "\u001b[32;1m√\u001b[0m control plane ServiceAccounts exist\n",
      "\u001b[32;1m√\u001b[0m control plane CustomResourceDefinitions exist\n",
      "\u001b[32;1m√\u001b[0m control plane MutatingWebhookConfigurations exist\n",
      "\u001b[32;1m√\u001b[0m control plane ValidatingWebhookConfigurations exist\n",
      "\u001b[32;1m√\u001b[0m control plane PodSecurityPolicies exist\n",
      "\n",
      "linkerd-existence\n",
      "-----------------\n",
      "\u001b[32;1m√\u001b[0m 'linkerd-config' config map exists\n",
      "\u001b[32;1m√\u001b[0m control plane replica sets are ready\n",
      "\u001b[32;1m√\u001b[0m no unschedulable pods\n",
      "\u001b[32;1m√\u001b[0m controller pod is running\n",
      "\u001b[32;1m√\u001b[0m can initialize the client\n",
      "\u001b[32;1m√\u001b[0m can query the control plane API\n",
      "\n",
      "linkerd-api\n",
      "-----------\n",
      "\u001b[32;1m√\u001b[0m control plane pods are ready\n",
      "\u001b[32;1m√\u001b[0m control plane self-check\n",
      "\u001b[32;1m√\u001b[0m [kubernetes] control plane can talk to Kubernetes\n",
      "\u001b[32;1m√\u001b[0m [prometheus] control plane can talk to Prometheus\n",
      "\u001b[32;1m√\u001b[0m no invalid service profiles\n",
      "\n",
      "linkerd-version\n",
      "---------------\n",
      "\u001b[32;1m√\u001b[0m can determine the latest version\n",
      "\u001b[32;1m√\u001b[0m cli is up-to-date\n",
      "\n",
      "control-plane-version\n",
      "---------------------\n",
      "\u001b[32;1m√\u001b[0m control plane is up-to-date\n",
      "\u001b[32;1m√\u001b[0m control plane and cli versions match\n",
      "\n",
      "Status check results are \u001b[32;1m√\u001b[0m\n"
     ]
    }
   ],
   "source": [
    "linkerd check"
   ]
  },
  {
   "cell_type": "code",
   "execution_count": 11,
   "metadata": {},
   "outputs": [
    {
     "name": "stdout",
     "output_type": "stream",
     "text": [
      "[2] 21690\n",
      "Linkerd dashboard available at:\n",
      "http://127.0.0.1:50750\n",
      "Grafana dashboard available at:\n",
      "http://127.0.0.1:50750/grafana\n",
      "Opening Linkerd dashboard in the default browser\n"
     ]
    }
   ],
   "source": [
    "linkerd dashboard &\n",
    "sleep 1 # make sure that the initial output of 'linkerd dashboard' is output below the cell"
   ]
  },
  {
   "cell_type": "markdown",
   "metadata": {},
   "source": [
    "### Add Linkerd to the web service"
   ]
  },
  {
   "cell_type": "code",
   "execution_count": 12,
   "metadata": {},
   "outputs": [
    {
     "name": "stdout",
     "output_type": "stream",
     "text": [
      "\n",
      "deployment \"web\" injected\n",
      "\n",
      "deployment.extensions/web configured\n"
     ]
    }
   ],
   "source": [
    "kubectl get -n emojivoto deploy/web -o yaml | linkerd inject - | kubectl apply -f -"
   ]
  },
  {
   "cell_type": "markdown",
   "metadata": {},
   "source": [
    "Now, have a look at the Linkerd dashboard and see what information about the service is gathered."
   ]
  },
  {
   "cell_type": "markdown",
   "metadata": {},
   "source": [
    "## Shut down the Kubernetes cluster"
   ]
  },
  {
   "cell_type": "code",
   "execution_count": 13,
   "metadata": {},
   "outputs": [
    {
     "name": "stdout",
     "output_type": "stream",
     "text": [
      "Deleting cluster \"linkerd-test\" ...\n",
      "E0916 16:37:21.644433   14103 portforward.go:233] lost connection to pod\n",
      "[1]-  Fertig                  kubectl port-forward -n emojivoto service/web-svc $LOCAL_WEB_PORT:$EMOJIVOTO_WEB_PORT > /dev/null\n",
      "[2]+  Fertig                  linkerd dashboard\n"
     ]
    }
   ],
   "source": [
    "delete-kind-cluster"
   ]
  }
 ],
 "metadata": {
  "kernelspec": {
   "display_name": "Bash",
   "language": "bash",
   "name": "bash"
  },
  "language_info": {
   "codemirror_mode": "shell",
   "file_extension": ".sh",
   "mimetype": "text/x-sh",
   "name": "bash"
  },
  "toc": {
   "base_numbering": 1,
   "nav_menu": {},
   "number_sections": true,
   "sideBar": true,
   "skip_h1_title": true,
   "title_cell": "Table of Contents",
   "title_sidebar": "Contents",
   "toc_cell": true,
   "toc_position": {},
   "toc_section_display": true,
   "toc_window_display": true
  }
 },
 "nbformat": 4,
 "nbformat_minor": 2
}
