{
 "cells": [
  {
   "cell_type": "markdown",
   "metadata": {},
   "source": [
    "# First steps with Linkerd 2.0\n",
    "In this notebook, we explore the service mesh Linkerd 2.0.\n",
    "\n",
    "References:\n",
    "* https://kubernetes.io/blog/2018/09/18/hands-on-with-linkerd-2.0/\n",
    "* https://linkerd.io/2/getting-started/"
   ]
  },
  {
   "cell_type": "markdown",
   "metadata": {
    "toc": true
   },
   "source": [
    "<h1>Table of Contents<span class=\"tocSkip\"></span></h1>\n",
    "<div class=\"toc\"><ul class=\"toc-item\"><li><span><a href=\"#Set-up-a-local-single-node-Kubernetes-cluster\" data-toc-modified-id=\"Set-up-a-local-single-node-Kubernetes-cluster-1\"><span class=\"toc-item-num\">1&nbsp;&nbsp;</span>Set up a local single-node Kubernetes cluster</a></span></li><li><span><a href=\"#Set-up-a-demo-application-in-the-Kubernetes-cluster\" data-toc-modified-id=\"Set-up-a-demo-application-in-the-Kubernetes-cluster-2\"><span class=\"toc-item-num\">2&nbsp;&nbsp;</span>Set up a demo application in the Kubernetes cluster</a></span><ul class=\"toc-item\"><li><span><a href=\"#Deploy-the-demo-app-emojivoto\" data-toc-modified-id=\"Deploy-the-demo-app-emojivoto-2.1\"><span class=\"toc-item-num\">2.1&nbsp;&nbsp;</span>Deploy the demo app <em>emojivoto</em></a></span></li><li><span><a href=\"#Find-out-on-which-port-the-service-is-running\" data-toc-modified-id=\"Find-out-on-which-port-the-service-is-running-2.2\"><span class=\"toc-item-num\">2.2&nbsp;&nbsp;</span>Find out on which port the service is running</a></span></li><li><span><a href=\"#Map-the-port-to-a-port-on-the-host-system-with-`kubectl-port-forward'\" data-toc-modified-id=\"Map-the-port-to-a-port-on-the-host-system-with-`kubectl-port-forward'-2.3\"><span class=\"toc-item-num\">2.3&nbsp;&nbsp;</span>Map the port to a port on the host system with `kubectl port-forward'</a></span></li></ul></li><li><span><a href=\"#Set-up-Linkderd-2\" data-toc-modified-id=\"Set-up-Linkderd-2-3\"><span class=\"toc-item-num\">3&nbsp;&nbsp;</span>Set up Linkderd 2</a></span><ul class=\"toc-item\"><li><span><a href=\"#Install-Linkerd-2-in-the-user's-home-directory\" data-toc-modified-id=\"Install-Linkerd-2-in-the-user's-home-directory-3.1\"><span class=\"toc-item-num\">3.1&nbsp;&nbsp;</span>Install Linkerd 2 in the user's home directory</a></span></li><li><span><a href=\"#Deploy-Linkerd’s-control-plane-to-the-cluster\" data-toc-modified-id=\"Deploy-Linkerd’s-control-plane-to-the-cluster-3.2\"><span class=\"toc-item-num\">3.2&nbsp;&nbsp;</span>Deploy Linkerd’s control plane to the cluster</a></span></li><li><span><a href=\"#Add-Linkerd-to-the-web-service\" data-toc-modified-id=\"Add-Linkerd-to-the-web-service-3.3\"><span class=\"toc-item-num\">3.3&nbsp;&nbsp;</span>Add Linkerd to the web service</a></span></li></ul></li><li><span><a href=\"#Shut-down-the-Kubernetes-cluster\" data-toc-modified-id=\"Shut-down-the-Kubernetes-cluster-4\"><span class=\"toc-item-num\">4&nbsp;&nbsp;</span>Shut down the Kubernetes cluster</a></span></li></ul></div>"
   ]
  },
  {
   "cell_type": "markdown",
   "metadata": {},
   "source": [
    "## Set up a local single-node Kubernetes cluster\n",
    "To see how this works, look at [../2019-09-16-setting-up-k8s-cluster-with-kind/setting-up-k8s-cluster-with-kind.ipynb](setting-up-k8s-cluster-with-kind.ipynb)"
   ]
  },
  {
   "cell_type": "code",
   "execution_count": 1,
   "metadata": {},
   "outputs": [
    {
     "name": "stdout",
     "output_type": "stream",
     "text": [
      "Creating cluster \"linkerd-test\" ...\n",
      " ✓ Ensuring node image (kindest/node:v1.15.3) 🖼 \n",
      " ✓ Preparing nodes 📦 \n",
      " ✓ Creating kubeadm config 📜 \n",
      " ✓ Starting control-plane 🕹️ \n",
      " ✓ Installing CNI 🔌 \n",
      " ✓ Installing StorageClass 💾 \n",
      "Cluster creation complete. You can now use the cluster with:\n",
      "\n",
      "export KUBECONFIG=\"$(kind get kubeconfig-path --name=\"linkerd-test\")\"\n",
      "kubectl cluster-info\n"
     ]
    }
   ],
   "source": [
    ". kubernetes-utils\n",
    "create-kind-cluster linkerd-test"
   ]
  },
  {
   "cell_type": "markdown",
   "metadata": {},
   "source": [
    "## Set up a demo application in the Kubernetes cluster"
   ]
  },
  {
   "cell_type": "markdown",
   "metadata": {},
   "source": [
    "### Deploy the demo app *emojivoto*\n",
    "Note that we use `kubectl rollout status` to wait until the deployments are finished. Unfortunately, we cannot pass `emojivoto.yml` to this command directly because it only supports files which contain exactly one deployment, see, e.g., https://github.com/kubernetes/kubernetes/issues/72216"
   ]
  },
  {
   "cell_type": "code",
   "execution_count": 2,
   "metadata": {},
   "outputs": [
    {
     "name": "stdout",
     "output_type": "stream",
     "text": [
      "namespace/emojivoto created\n",
      "serviceaccount/emoji created\n",
      "serviceaccount/voting created\n",
      "serviceaccount/web created\n",
      "service/emoji-svc created\n",
      "service/voting-svc created\n",
      "service/web-svc created\n",
      "deployment.apps/emoji created\n",
      "deployment.apps/vote-bot created\n",
      "deployment.apps/voting created\n",
      "deployment.apps/web created\n",
      "Waiting for deployment spec update to be observed...\n",
      "Waiting for deployment spec update to be observed...\n",
      "Waiting for deployment \"emoji\" rollout to finish: 0 out of 1 new replicas have been updated...\n",
      "Waiting for deployment \"emoji\" rollout to finish: 0 of 1 updated replicas are available...\n",
      "deployment \"emoji\" successfully rolled out\n",
      "deployment \"voting\" successfully rolled out\n",
      "deployment \"web\" successfully rolled out\n",
      "deployment \"vote-bot\" successfully rolled out\n"
     ]
    }
   ],
   "source": [
    "export EMOJIVOTO=download/emojivoto.yml\n",
    "\n",
    "if [ ! -f $EMOJIVOTO ]; then\n",
    "    mkdir -p download\n",
    "    curl -s https://run.linkerd.io/emojivoto.yml -o $EMOJIVOTO\n",
    "fi\n",
    "\n",
    "kubectl apply -f $EMOJIVOTO\n",
    "\n",
    "kubectl rollout status -n emojivoto deployment emoji\n",
    "kubectl rollout status -n emojivoto deployment voting\n",
    "kubectl rollout status -n emojivoto deployment web\n",
    "kubectl rollout status -n emojivoto deployment vote-bot"
   ]
  },
  {
   "cell_type": "markdown",
   "metadata": {},
   "source": [
    "### Find out on which port the service is running"
   ]
  },
  {
   "cell_type": "code",
   "execution_count": 3,
   "metadata": {},
   "outputs": [
    {
     "name": "stdout",
     "output_type": "stream",
     "text": [
      "NAME                           READY   STATUS    RESTARTS   AGE\n",
      "pod/emoji-89d7ff8b9-8rb7k      1/1     Running   0          69s\n",
      "pod/vote-bot-56c4b4cdb-c9tvx   1/1     Running   0          69s\n",
      "pod/voting-746477d54b-cm4fh    1/1     Running   0          69s\n",
      "pod/web-5f96ddbd6b-q88hz       1/1     Running   0          69s\n",
      "\n",
      "NAME                 TYPE        CLUSTER-IP       EXTERNAL-IP   PORT(S)             AGE\n",
      "service/emoji-svc    ClusterIP   10.98.95.104     <none>        8080/TCP,8801/TCP   72s\n",
      "service/voting-svc   ClusterIP   10.98.226.227    <none>        8080/TCP,8801/TCP   72s\n",
      "service/web-svc      ClusterIP   10.100.139.120   <none>        80/TCP              72s\n",
      "\n",
      "NAME                       READY   UP-TO-DATE   AVAILABLE   AGE\n",
      "deployment.apps/emoji      1/1     1            1           72s\n",
      "deployment.apps/vote-bot   1/1     1            1           72s\n",
      "deployment.apps/voting     1/1     1            1           72s\n",
      "deployment.apps/web        1/1     1            1           72s\n",
      "\n",
      "NAME                                 DESIRED   CURRENT   READY   AGE\n",
      "replicaset.apps/emoji-89d7ff8b9      1         1         1       69s\n",
      "replicaset.apps/vote-bot-56c4b4cdb   1         1         1       69s\n",
      "replicaset.apps/voting-746477d54b    1         1         1       69s\n",
      "replicaset.apps/web-5f96ddbd6b       1         1         1       69s\n"
     ]
    }
   ],
   "source": [
    "kubectl get all -n emojivoto"
   ]
  },
  {
   "cell_type": "code",
   "execution_count": 4,
   "metadata": {},
   "outputs": [
    {
     "name": "stdout",
     "output_type": "stream",
     "text": [
      "NAME         TYPE        CLUSTER-IP       EXTERNAL-IP   PORT(S)             AGE\n",
      "emoji-svc    ClusterIP   10.98.95.104     <none>        8080/TCP,8801/TCP   73s\n",
      "voting-svc   ClusterIP   10.98.226.227    <none>        8080/TCP,8801/TCP   73s\n",
      "web-svc      ClusterIP   10.100.139.120   <none>        80/TCP              73s\n"
     ]
    }
   ],
   "source": [
    "kubectl get -n emojivoto services"
   ]
  },
  {
   "cell_type": "code",
   "execution_count": 5,
   "metadata": {},
   "outputs": [
    {
     "name": "stdout",
     "output_type": "stream",
     "text": [
      "The port of the service web-svc is 80\n"
     ]
    }
   ],
   "source": [
    "# Note that kubectl port-forward needs the service port *inside the container*\n",
    "EMOJIVOTO_WEB_PORT=$(kubectl get -n emojivoto service web-svc -o jsonpath='{.spec.ports[0].port}')\n",
    "echo \"The port of the service web-svc is $EMOJIVOTO_WEB_PORT\""
   ]
  },
  {
   "cell_type": "markdown",
   "metadata": {},
   "source": [
    "### Map the port to a port on the host system with `kubectl port-forward'"
   ]
  },
  {
   "cell_type": "code",
   "execution_count": 6,
   "metadata": {},
   "outputs": [
    {
     "name": "stdout",
     "output_type": "stream",
     "text": [
      "Setting up access to the emoji vote service at http://127.0.0.1:8097\n",
      "[1] 8403\n"
     ]
    }
   ],
   "source": [
    "# Just choose a port which is hopefully unused on the local system\n",
    "LOCAL_WEB_PORT=8097\n",
    "echo \"Setting up access to the emoji vote service at http://127.0.0.1:$LOCAL_WEB_PORT\"\n",
    "kubectl port-forward -n emojivoto service/web-svc $LOCAL_WEB_PORT:$EMOJIVOTO_WEB_PORT > /dev/null &"
   ]
  },
  {
   "cell_type": "markdown",
   "metadata": {},
   "source": [
    "## Set up Linkderd 2"
   ]
  },
  {
   "cell_type": "markdown",
   "metadata": {},
   "source": [
    "### Install Linkerd 2 in the user's home directory"
   ]
  },
  {
   "cell_type": "code",
   "execution_count": 7,
   "metadata": {},
   "outputs": [
    {
     "name": "stdout",
     "output_type": "stream",
     "text": [
      "Client version: stable-2.9.3\n",
      "Server version: unavailable\n"
     ]
    }
   ],
   "source": [
    "if [ ! -d $HOME/.linkerd2 ]; then\n",
    "    curl -sL https://run.linkerd.io/install | sh\n",
    "    echo\n",
    "fi\n",
    "\n",
    "export PATH=$PATH:$HOME/.linkerd2/bin\n",
    "\n",
    "linkerd version"
   ]
  },
  {
   "cell_type": "markdown",
   "metadata": {},
   "source": [
    "### Deploy Linkerd’s control plane to the cluster"
   ]
  },
  {
   "cell_type": "code",
   "execution_count": 8,
   "metadata": {},
   "outputs": [
    {
     "name": "stdout",
     "output_type": "stream",
     "text": [
      "kubernetes-api\n",
      "--------------\n",
      "\u001b[32;1m√\u001b[0m can initialize the client\n",
      "\u001b[32;1m√\u001b[0m can query the Kubernetes API\n",
      "\n",
      "kubernetes-version\n",
      "------------------\n",
      "\u001b[32;1m√\u001b[0m is running the minimum Kubernetes API version\n",
      "\u001b[32;1m√\u001b[0m is running the minimum kubectl version\n",
      "\n",
      "pre-kubernetes-setup\n",
      "--------------------\n",
      "\u001b[32;1m√\u001b[0m control plane namespace does not already exist\n",
      "\u001b[32;1m√\u001b[0m can create non-namespaced resources\n",
      "\u001b[32;1m√\u001b[0m can create ServiceAccounts\n",
      "\u001b[32;1m√\u001b[0m can create Services\n",
      "\u001b[32;1m√\u001b[0m can create Deployments\n",
      "\u001b[32;1m√\u001b[0m can create CronJobs\n",
      "\u001b[32;1m√\u001b[0m can create ConfigMaps\n",
      "\u001b[32;1m√\u001b[0m can create Secrets\n",
      "\u001b[32;1m√\u001b[0m can read Secrets\n",
      "\u001b[32;1m√\u001b[0m can read extension-apiserver-authentication configmap\n",
      "\u001b[32;1m√\u001b[0m no clock skew detected\n",
      "\n",
      "pre-kubernetes-capability\n",
      "-------------------------\n",
      "\u001b[32;1m√\u001b[0m has NET_ADMIN capability\n",
      "\u001b[32;1m√\u001b[0m has NET_RAW capability\n",
      "\n",
      "linkerd-version\n",
      "---------------\n",
      "\u001b[32;1m√\u001b[0m can determine the latest version\n",
      "\u001b[33;1m‼\u001b[0m cli is up-to-date\n",
      "    is running version 2.9.3 but the latest stable version is 2.9.4\n",
      "    see https://linkerd.io/checks/#l5d-version-cli for hints\n",
      "\n",
      "Status check results are \u001b[32;1m√\u001b[0m\n"
     ]
    }
   ],
   "source": [
    "linkerd check --pre"
   ]
  },
  {
   "cell_type": "code",
   "execution_count": 9,
   "metadata": {},
   "outputs": [
    {
     "name": "stdout",
     "output_type": "stream",
     "text": [
      "namespace/linkerd created\n",
      "clusterrole.rbac.authorization.k8s.io/linkerd-linkerd-identity created\n",
      "clusterrolebinding.rbac.authorization.k8s.io/linkerd-linkerd-identity created\n",
      "serviceaccount/linkerd-identity created\n",
      "clusterrole.rbac.authorization.k8s.io/linkerd-linkerd-controller created\n",
      "clusterrolebinding.rbac.authorization.k8s.io/linkerd-linkerd-controller created\n",
      "serviceaccount/linkerd-controller created\n",
      "clusterrole.rbac.authorization.k8s.io/linkerd-linkerd-destination created\n",
      "clusterrolebinding.rbac.authorization.k8s.io/linkerd-linkerd-destination created\n",
      "serviceaccount/linkerd-destination created\n",
      "role.rbac.authorization.k8s.io/linkerd-heartbeat created\n",
      "rolebinding.rbac.authorization.k8s.io/linkerd-heartbeat created\n",
      "serviceaccount/linkerd-heartbeat created\n",
      "role.rbac.authorization.k8s.io/linkerd-web created\n",
      "rolebinding.rbac.authorization.k8s.io/linkerd-web created\n",
      "clusterrole.rbac.authorization.k8s.io/linkerd-linkerd-web-check created\n",
      "clusterrolebinding.rbac.authorization.k8s.io/linkerd-linkerd-web-check created\n",
      "clusterrolebinding.rbac.authorization.k8s.io/linkerd-linkerd-web-admin created\n",
      "serviceaccount/linkerd-web created\n",
      "customresourcedefinition.apiextensions.k8s.io/serviceprofiles.linkerd.io created\n",
      "customresourcedefinition.apiextensions.k8s.io/trafficsplits.split.smi-spec.io created\n",
      "clusterrole.rbac.authorization.k8s.io/linkerd-linkerd-proxy-injector created\n",
      "clusterrolebinding.rbac.authorization.k8s.io/linkerd-linkerd-proxy-injector created\n",
      "serviceaccount/linkerd-proxy-injector created\n",
      "secret/linkerd-proxy-injector-k8s-tls created\n",
      "mutatingwebhookconfiguration.admissionregistration.k8s.io/linkerd-proxy-injector-webhook-config created\n",
      "clusterrole.rbac.authorization.k8s.io/linkerd-linkerd-sp-validator created\n",
      "clusterrolebinding.rbac.authorization.k8s.io/linkerd-linkerd-sp-validator created\n",
      "serviceaccount/linkerd-sp-validator created\n",
      "secret/linkerd-sp-validator-k8s-tls created\n",
      "validatingwebhookconfiguration.admissionregistration.k8s.io/linkerd-sp-validator-webhook-config created\n",
      "clusterrole.rbac.authorization.k8s.io/linkerd-linkerd-tap created\n",
      "clusterrole.rbac.authorization.k8s.io/linkerd-linkerd-tap-admin created\n",
      "clusterrolebinding.rbac.authorization.k8s.io/linkerd-linkerd-tap created\n",
      "clusterrolebinding.rbac.authorization.k8s.io/linkerd-linkerd-tap-auth-delegator created\n",
      "serviceaccount/linkerd-tap created\n",
      "rolebinding.rbac.authorization.k8s.io/linkerd-linkerd-tap-auth-reader created\n",
      "secret/linkerd-tap-k8s-tls created\n",
      "apiservice.apiregistration.k8s.io/v1alpha1.tap.linkerd.io created\n",
      "podsecuritypolicy.policy/linkerd-linkerd-control-plane created\n",
      "role.rbac.authorization.k8s.io/linkerd-psp created\n",
      "rolebinding.rbac.authorization.k8s.io/linkerd-psp created\n",
      "configmap/linkerd-config created\n",
      "secret/linkerd-identity-issuer created\n",
      "service/linkerd-identity created\n",
      "service/linkerd-identity-headless created\n",
      "deployment.apps/linkerd-identity created\n",
      "service/linkerd-controller-api created\n",
      "deployment.apps/linkerd-controller created\n",
      "service/linkerd-dst created\n",
      "service/linkerd-dst-headless created\n",
      "deployment.apps/linkerd-destination created\n",
      "cronjob.batch/linkerd-heartbeat created\n",
      "service/linkerd-web created\n",
      "deployment.apps/linkerd-web created\n",
      "deployment.apps/linkerd-proxy-injector created\n",
      "service/linkerd-proxy-injector created\n",
      "service/linkerd-sp-validator created\n",
      "deployment.apps/linkerd-sp-validator created\n",
      "service/linkerd-tap created\n",
      "deployment.apps/linkerd-tap created\n",
      "serviceaccount/linkerd-grafana created\n",
      "configmap/linkerd-grafana-config created\n",
      "service/linkerd-grafana created\n",
      "deployment.apps/linkerd-grafana created\n",
      "clusterrole.rbac.authorization.k8s.io/linkerd-linkerd-prometheus created\n",
      "clusterrolebinding.rbac.authorization.k8s.io/linkerd-linkerd-prometheus created\n",
      "serviceaccount/linkerd-prometheus created\n",
      "configmap/linkerd-prometheus-config created\n",
      "service/linkerd-prometheus created\n",
      "deployment.apps/linkerd-prometheus created\n",
      "secret/linkerd-config-overrides created\n",
      "Waiting for deployment \"linkerd-identity\" rollout to finish: 0 of 1 updated replicas are available...\n",
      "deployment \"linkerd-identity\" successfully rolled out\n",
      "Waiting for deployment \"linkerd-controller\" rollout to finish: 0 of 1 updated replicas are available...\n",
      "deployment \"linkerd-controller\" successfully rolled out\n",
      "Waiting for deployment \"linkerd-web\" rollout to finish: 0 of 1 updated replicas are available...\n",
      "deployment \"linkerd-web\" successfully rolled out\n",
      "deployment \"linkerd-prometheus\" successfully rolled out\n",
      "deployment \"linkerd-grafana\" successfully rolled out\n",
      "deployment \"linkerd-proxy-injector\" successfully rolled out\n",
      "deployment \"linkerd-sp-validator\" successfully rolled out\n",
      "deployment \"linkerd-tap\" successfully rolled out\n"
     ]
    }
   ],
   "source": [
    "linkerd install | kubectl apply -f -\n",
    "\n",
    "kubectl rollout status -n linkerd deploy linkerd-identity\n",
    "kubectl rollout status -n linkerd deploy linkerd-controller\n",
    "kubectl rollout status -n linkerd deploy linkerd-web\n",
    "kubectl rollout status -n linkerd deploy linkerd-prometheus\n",
    "kubectl rollout status -n linkerd deploy linkerd-grafana\n",
    "kubectl rollout status -n linkerd deploy linkerd-proxy-injector\n",
    "kubectl rollout status -n linkerd deploy linkerd-sp-validator\n",
    "kubectl rollout status -n linkerd deploy linkerd-tap"
   ]
  },
  {
   "cell_type": "code",
   "execution_count": 10,
   "metadata": {},
   "outputs": [
    {
     "name": "stdout",
     "output_type": "stream",
     "text": [
      "kubernetes-api\n",
      "--------------\n",
      "\u001b[32;1m√\u001b[0m can initialize the client\n",
      "\u001b[32;1m√\u001b[0m can query the Kubernetes API\n",
      "\n",
      "kubernetes-version\n",
      "------------------\n",
      "\u001b[32;1m√\u001b[0m is running the minimum Kubernetes API version\n",
      "\u001b[32;1m√\u001b[0m is running the minimum kubectl version\n",
      "\n",
      "linkerd-existence\n",
      "-----------------\n",
      "\u001b[32;1m√\u001b[0m 'linkerd-config' config map exists\n",
      "\u001b[32;1m√\u001b[0m heartbeat ServiceAccount exist\n",
      "\u001b[32;1m√\u001b[0m control plane replica sets are ready\n",
      "\u001b[32;1m√\u001b[0m no unschedulable pods\n",
      "\u001b[32;1m√\u001b[0m controller pod is running\n",
      "\u001b[32;1m√\u001b[0m can initialize the client\n",
      "\u001b[32;1m√\u001b[0m can query the control plane API\n",
      "\n",
      "linkerd-config\n",
      "--------------\n",
      "\u001b[32;1m√\u001b[0m control plane Namespace exists\n",
      "\u001b[32;1m√\u001b[0m control plane ClusterRoles exist\n",
      "\u001b[32;1m√\u001b[0m control plane ClusterRoleBindings exist\n",
      "\u001b[32;1m√\u001b[0m control plane ServiceAccounts exist\n",
      "\u001b[32;1m√\u001b[0m control plane CustomResourceDefinitions exist\n",
      "\u001b[32;1m√\u001b[0m control plane MutatingWebhookConfigurations exist\n",
      "\u001b[32;1m√\u001b[0m control plane ValidatingWebhookConfigurations exist\n",
      "\u001b[32;1m√\u001b[0m control plane PodSecurityPolicies exist\n",
      "\n",
      "linkerd-identity\n",
      "----------------\n",
      "\u001b[32;1m√\u001b[0m certificate config is valid\n",
      "\u001b[32;1m√\u001b[0m trust anchors are using supported crypto algorithm\n",
      "\u001b[32;1m√\u001b[0m trust anchors are within their validity period\n",
      "\u001b[32;1m√\u001b[0m trust anchors are valid for at least 60 days\n",
      "\u001b[32;1m√\u001b[0m issuer cert is using supported crypto algorithm\n",
      "\u001b[32;1m√\u001b[0m issuer cert is within its validity period\n",
      "\u001b[32;1m√\u001b[0m issuer cert is valid for at least 60 days\n",
      "\u001b[32;1m√\u001b[0m issuer cert is issued by the trust anchor\n",
      "\n",
      "linkerd-webhooks-and-apisvc-tls\n",
      "-------------------------------\n",
      "\u001b[32;1m√\u001b[0m tap API server has valid cert\n",
      "\u001b[32;1m√\u001b[0m tap API server cert is valid for at least 60 days\n",
      "\u001b[32;1m√\u001b[0m proxy-injector webhook has valid cert\n",
      "\u001b[32;1m√\u001b[0m proxy-injector cert is valid for at least 60 days\n",
      "\u001b[32;1m√\u001b[0m sp-validator webhook has valid cert\n",
      "\u001b[32;1m√\u001b[0m sp-validator cert is valid for at least 60 days\n",
      "\n",
      "linkerd-api\n",
      "-----------\n",
      "\u001b[32;1m√\u001b[0m control plane pods are ready\n",
      "\u001b[32;1m√\u001b[0m control plane self-check\n",
      "\u001b[32;1m√\u001b[0m [kubernetes] control plane can talk to Kubernetes\n",
      "\u001b[32;1m√\u001b[0m [prometheus] control plane can talk to Prometheus\n",
      "\u001b[32;1m√\u001b[0m tap api service is running\n",
      "\n",
      "linkerd-version\n",
      "---------------\n",
      "\u001b[32;1m√\u001b[0m can determine the latest version\n",
      "\u001b[33;1m‼\u001b[0m cli is up-to-date\n",
      "    is running version 2.9.3 but the latest stable version is 2.9.4\n",
      "    see https://linkerd.io/checks/#l5d-version-cli for hints\n",
      "\n",
      "control-plane-version\n",
      "---------------------\n",
      "\u001b[33;1m‼\u001b[0m control plane is up-to-date\n",
      "    is running version 2.9.3 but the latest stable version is 2.9.4\n",
      "    see https://linkerd.io/checks/#l5d-version-control for hints\n",
      "\u001b[32;1m√\u001b[0m control plane and cli versions match\n",
      "\n",
      "linkerd-prometheus\n",
      "------------------\n",
      "\u001b[32;1m√\u001b[0m prometheus add-on service account exists\n",
      "\u001b[32;1m√\u001b[0m prometheus add-on config map exists\n",
      "\u001b[32;1m√\u001b[0m prometheus pod is running\n",
      "\n",
      "linkerd-grafana\n",
      "---------------\n",
      "\u001b[32;1m√\u001b[0m grafana add-on service account exists\n",
      "\u001b[32;1m√\u001b[0m grafana add-on config map exists\n",
      "\u001b[32;1m√\u001b[0m grafana pod is running\n",
      "\n",
      "Status check results are \u001b[32;1m√\u001b[0m\n"
     ]
    }
   ],
   "source": [
    "linkerd check"
   ]
  },
  {
   "cell_type": "code",
   "execution_count": 11,
   "metadata": {},
   "outputs": [
    {
     "name": "stdout",
     "output_type": "stream",
     "text": [
      "[2] 14292\n",
      "Linkerd dashboard available at:\n",
      "http://localhost:50750\n",
      "Grafana dashboard available at:\n",
      "http://localhost:50750/grafana\n",
      "Opening Linkerd dashboard in the default browser\n"
     ]
    }
   ],
   "source": [
    "linkerd dashboard &\n",
    "sleep 1 # make sure that the initial output of 'linkerd dashboard' is output below the cell"
   ]
  },
  {
   "cell_type": "markdown",
   "metadata": {},
   "source": [
    "### Add Linkerd to the web service"
   ]
  },
  {
   "cell_type": "code",
   "execution_count": 12,
   "metadata": {},
   "outputs": [
    {
     "name": "stdout",
     "output_type": "stream",
     "text": [
      "\n",
      "deployment \"web\" injected\n",
      "\n",
      "deployment.extensions/web configured\n"
     ]
    }
   ],
   "source": [
    "kubectl get -n emojivoto deploy/web -o yaml | linkerd inject - | kubectl apply -f -"
   ]
  },
  {
   "cell_type": "markdown",
   "metadata": {},
   "source": [
    "Now, have a look at the Linkerd dashboard and see what information about the service is gathered."
   ]
  },
  {
   "cell_type": "markdown",
   "metadata": {},
   "source": [
    "## Shut down the Kubernetes cluster"
   ]
  },
  {
   "cell_type": "code",
   "execution_count": 13,
   "metadata": {},
   "outputs": [
    {
     "name": "stdout",
     "output_type": "stream",
     "text": [
      "Deleting cluster \"linkerd-test\" ...\n",
      "E0223 23:17:00.335272   14292 portforward.go:233] lost connection to pod\n",
      "E0223 23:17:00.335240   14292 portforward.go:233] lost connection to pod\n",
      "E0223 23:17:00.336420    8403 portforward.go:233] lost connection to pod\n",
      "[1]-  Fertig                  kubectl port-forward -n emojivoto service/web-svc $LOCAL_WEB_PORT:$EMOJIVOTO_WEB_PORT > /dev/null\n"
     ]
    }
   ],
   "source": [
    "delete-kind-cluster"
   ]
  }
 ],
 "metadata": {
  "kernelspec": {
   "display_name": "Bash",
   "language": "bash",
   "name": "bash"
  },
  "language_info": {
   "codemirror_mode": "shell",
   "file_extension": ".sh",
   "mimetype": "text/x-sh",
   "name": "bash"
  },
  "toc": {
   "base_numbering": 1,
   "nav_menu": {},
   "number_sections": true,
   "sideBar": true,
   "skip_h1_title": true,
   "title_cell": "Table of Contents",
   "title_sidebar": "Contents",
   "toc_cell": true,
   "toc_position": {},
   "toc_section_display": true,
   "toc_window_display": true
  }
 },
 "nbformat": 4,
 "nbformat_minor": 2
}
