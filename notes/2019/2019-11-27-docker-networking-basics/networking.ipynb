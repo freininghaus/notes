{
 "cells": [
  {
   "cell_type": "markdown",
   "metadata": {
    "toc": true
   },
   "source": [
    "<h1>Table of Contents<span class=\"tocSkip\"></span></h1>\n",
    "<div class=\"toc\"><ul class=\"toc-item\"><li><span><a href=\"#Build-image-for-simple-HTTP-test-app\" data-toc-modified-id=\"Build-image-for-simple-HTTP-test-app-1\"><span class=\"toc-item-num\">1&nbsp;&nbsp;</span>Build image for simple HTTP test app</a></span></li><li><span><a href=\"#Run-containers-with-the-default-network-(&quot;bridge&quot;)\" data-toc-modified-id=\"Run-containers-with-the-default-network-(&quot;bridge&quot;)-2\"><span class=\"toc-item-num\">2&nbsp;&nbsp;</span>Run containers with the default network (\"bridge\")</a></span><ul class=\"toc-item\"><li><span><a href=\"#Start-containers-and-get-their-IDs-and-mapped-ports\" data-toc-modified-id=\"Start-containers-and-get-their-IDs-and-mapped-ports-2.1\"><span class=\"toc-item-num\">2.1&nbsp;&nbsp;</span>Start containers and get their IDs and mapped ports</a></span></li><li><span><a href=\"#Find-out-the-container-IPs-in-the-bridge-network\" data-toc-modified-id=\"Find-out-the-container-IPs-in-the-bridge-network-2.2\"><span class=\"toc-item-num\">2.2&nbsp;&nbsp;</span>Find out the container IPs in the bridge network</a></span></li><li><span><a href=\"#Display-container-IPs,-mapped-ports,-and-container-IDs\" data-toc-modified-id=\"Display-container-IPs,-mapped-ports,-and-container-IDs-2.3\"><span class=\"toc-item-num\">2.3&nbsp;&nbsp;</span>Display container IPs, mapped ports, and container IDs</a></span></li><li><span><a href=\"#Access-containers-with-bridge-network-IPs\" data-toc-modified-id=\"Access-containers-with-bridge-network-IPs-2.4\"><span class=\"toc-item-num\">2.4&nbsp;&nbsp;</span>Access containers with bridge network IPs</a></span></li><li><span><a href=\"#Access-containers-with-mapped-host-ports\" data-toc-modified-id=\"Access-containers-with-mapped-host-ports-2.5\"><span class=\"toc-item-num\">2.5&nbsp;&nbsp;</span>Access containers with mapped host ports</a></span></li><li><span><a href=\"#Containers-cannot-access-each-other-with-localhost\" data-toc-modified-id=\"Containers-cannot-access-each-other-with-localhost-2.6\"><span class=\"toc-item-num\">2.6&nbsp;&nbsp;</span>Containers cannot access each other with <code>localhost</code></a></span></li><li><span><a href=\"#Cleanup\" data-toc-modified-id=\"Cleanup-2.7\"><span class=\"toc-item-num\">2.7&nbsp;&nbsp;</span>Cleanup</a></span></li></ul></li><li><span><a href=\"#Use-the-host-network\" data-toc-modified-id=\"Use-the-host-network-3\"><span class=\"toc-item-num\">3&nbsp;&nbsp;</span>Use the host network</a></span></li></ul></div>"
   ]
  },
  {
   "cell_type": "markdown",
   "metadata": {},
   "source": [
    "# TODO\n",
    "* add examples for '--network host' mode\n",
    "* add examples for containers with shared custom network which has DNS"
   ]
  },
  {
   "cell_type": "markdown",
   "metadata": {},
   "source": [
    "## Build image for simple HTTP test app"
   ]
  },
  {
   "cell_type": "code",
   "execution_count": 1,
   "metadata": {},
   "outputs": [
    {
     "name": "stdout",
     "output_type": "stream",
     "text": [
      "Sending build context to Docker daemon  5.632kB\n",
      "Step 1/7 : FROM python:3\n",
      " ---> e32be9a6f71f\n",
      "Step 2/7 : RUN pip3 install --upgrade pip\n",
      " ---> Using cache\n",
      " ---> 1c39c5ef7b40\n",
      "Step 3/7 : COPY requirements.txt .\n",
      " ---> Using cache\n",
      " ---> ee1f9247ac3f\n",
      "Step 4/7 : RUN pip3 install -r requirements.txt\n",
      " ---> Using cache\n",
      " ---> f6f7147d43eb\n",
      "Step 5/7 : COPY app.py .\n",
      " ---> Using cache\n",
      " ---> b049e34952f0\n",
      "Step 6/7 : EXPOSE 8080\n",
      " ---> Using cache\n",
      " ---> 34ec71d9d3b5\n",
      "Step 7/7 : CMD [\"python\", \"app.py\"]\n",
      " ---> Using cache\n",
      " ---> f43d5045081f\n",
      "Successfully built f43d5045081f\n",
      "Successfully tagged simple_http_test_app:latest\n"
     ]
    }
   ],
   "source": [
    "docker build -t simple_http_test_app simple_http_test_app"
   ]
  },
  {
   "cell_type": "markdown",
   "metadata": {},
   "source": [
    "## Run containers with the default network (\"bridge\")"
   ]
  },
  {
   "cell_type": "markdown",
   "metadata": {},
   "source": [
    "### Start containers and get their IDs and mapped ports\n",
    "Note that there are multiple ways to define port mappings:\n",
    "* `-p 32001:8080` maps the container port 8080 to the host port 32001 (works only if 32001 is not used yet).\n",
    "* `-p :8080` maps the container port 8080 to a free port on the host.\n",
    "* `-P` maps all ports which are exposed in the Dockerfile to free ports on the host."
   ]
  },
  {
   "cell_type": "code",
   "execution_count": 2,
   "metadata": {},
   "outputs": [],
   "source": [
    "CONTAINER_ID_A=$(docker run -d --rm --name container-a -p :8080 -e 'NAME=app-a' simple_http_test_app)\n",
    "CONTAINER_ID_B=$(docker run -d --rm --name container-b -p :8080 -e 'NAME=app-b' simple_http_test_app)"
   ]
  },
  {
   "cell_type": "markdown",
   "metadata": {},
   "source": [
    "The mapped host ports can be obtained with `docker port`."
   ]
  },
  {
   "cell_type": "code",
   "execution_count": 3,
   "metadata": {},
   "outputs": [
    {
     "name": "stdout",
     "output_type": "stream",
     "text": [
      "8080/tcp -> 0.0.0.0:32768\n"
     ]
    }
   ],
   "source": [
    "docker port $CONTAINER_ID_A"
   ]
  },
  {
   "cell_type": "code",
   "execution_count": 4,
   "metadata": {},
   "outputs": [
    {
     "name": "stdout",
     "output_type": "stream",
     "text": [
      "0.0.0.0:32768\n"
     ]
    }
   ],
   "source": [
    "docker port $CONTAINER_ID_A 8080"
   ]
  },
  {
   "cell_type": "code",
   "execution_count": 5,
   "metadata": {},
   "outputs": [],
   "source": [
    "PORT_A=$(docker port $CONTAINER_ID_A 8080 | cut -d ':' -f 2)\n",
    "PORT_B=$(docker port $CONTAINER_ID_B 8080 | cut -d ':' -f 2)"
   ]
  },
  {
   "cell_type": "markdown",
   "metadata": {},
   "source": [
    "### Find out the container IPs in the bridge network"
   ]
  },
  {
   "cell_type": "code",
   "execution_count": 6,
   "metadata": {},
   "outputs": [],
   "source": [
    "IP_A=$(docker inspect $CONTAINER_ID_A -f '{{ .NetworkSettings.IPAddress }}')\n",
    "IP_B=$(docker inspect $CONTAINER_ID_B -f '{{ .NetworkSettings.IPAddress }}')"
   ]
  },
  {
   "cell_type": "markdown",
   "metadata": {},
   "source": [
    "### Display container IPs, mapped ports, and container IDs"
   ]
  },
  {
   "cell_type": "code",
   "execution_count": 7,
   "metadata": {},
   "outputs": [
    {
     "name": "stdout",
     "output_type": "stream",
     "text": [
      "172.17.0.4 32768 34679fbca00315c559c9d064894bc7dc909a9d879b8c53b6c73da96265392008\n",
      "172.17.0.5 32769 e75685c97769fcb1fbf5666216d220e69c50969b2278b01c9ee3330917aeb89d\n"
     ]
    }
   ],
   "source": [
    "echo $IP_A $PORT_A $CONTAINER_ID_A\n",
    "echo $IP_B $PORT_B $CONTAINER_ID_B"
   ]
  },
  {
   "cell_type": "markdown",
   "metadata": {},
   "source": [
    "### Access containers with bridge network IPs"
   ]
  },
  {
   "cell_type": "code",
   "execution_count": 8,
   "metadata": {},
   "outputs": [
    {
     "name": "stdout",
     "output_type": "stream",
     "text": [
      "response from app-a running on 34679fbca003 (172.17.0.4) on port 8080\n"
     ]
    }
   ],
   "source": [
    "curl $IP_A:8080/ping"
   ]
  },
  {
   "cell_type": "code",
   "execution_count": 9,
   "metadata": {},
   "outputs": [
    {
     "name": "stdout",
     "output_type": "stream",
     "text": [
      "response from app-b running on e75685c97769 (172.17.0.5) on port 8080\n"
     ]
    }
   ],
   "source": [
    "curl $IP_B:8080/ping"
   ]
  },
  {
   "cell_type": "code",
   "execution_count": 10,
   "metadata": {},
   "outputs": [
    {
     "name": "stdout",
     "output_type": "stream",
     "text": [
      "forwarded by app-a running on 34679fbca003 (172.17.0.4) on port 8080:\n",
      "  response from app-b running on e75685c97769 (172.17.0.5) on port 8080\n",
      "\n"
     ]
    }
   ],
   "source": [
    "curl $IP_A:8080/access/http://$IP_B:8080/ping"
   ]
  },
  {
   "cell_type": "markdown",
   "metadata": {},
   "source": [
    "### Access containers with mapped host ports"
   ]
  },
  {
   "cell_type": "code",
   "execution_count": 11,
   "metadata": {},
   "outputs": [],
   "source": [
    "HOST_IP=$(hostname -I | cut -d ' ' -f 1)"
   ]
  },
  {
   "cell_type": "code",
   "execution_count": 12,
   "metadata": {},
   "outputs": [
    {
     "name": "stdout",
     "output_type": "stream",
     "text": [
      "response from app-a running on 34679fbca003 (172.17.0.4) on port 8080\n"
     ]
    }
   ],
   "source": [
    "curl $HOST_IP:$PORT_A/ping"
   ]
  },
  {
   "cell_type": "code",
   "execution_count": 13,
   "metadata": {},
   "outputs": [
    {
     "name": "stdout",
     "output_type": "stream",
     "text": [
      "response from app-b running on e75685c97769 (172.17.0.5) on port 8080\n"
     ]
    }
   ],
   "source": [
    "curl $HOST_IP:$PORT_B/ping"
   ]
  },
  {
   "cell_type": "code",
   "execution_count": 14,
   "metadata": {},
   "outputs": [
    {
     "name": "stdout",
     "output_type": "stream",
     "text": [
      "forwarded by app-a running on 34679fbca003 (172.17.0.4) on port 8080:\n",
      "  response from app-b running on e75685c97769 (172.17.0.5) on port 8080\n",
      "\n"
     ]
    }
   ],
   "source": [
    "curl $HOST_IP:$PORT_A/access/http://$HOST_IP:$PORT_B/ping"
   ]
  },
  {
   "cell_type": "markdown",
   "metadata": {},
   "source": [
    "### Containers cannot access each other with `localhost`\n",
    "Note that only the host can access mapped container ports via `localhost`/127.0.0.1. Containers cannot access each other this way, they either have to use their IPs and the container ports, or the host IP and the mapped ports (both options are shown above)."
   ]
  },
  {
   "cell_type": "code",
   "execution_count": 15,
   "metadata": {},
   "outputs": [
    {
     "name": "stdout",
     "output_type": "stream",
     "text": [
      "response from app-a running on 34679fbca003 (172.17.0.4) on port 8080\n"
     ]
    }
   ],
   "source": [
    "curl 127.0.0.1:$PORT_A/ping"
   ]
  },
  {
   "cell_type": "markdown",
   "metadata": {},
   "source": [
    "This does not work:\n",
    "\n",
    "    curl 127.0.0.1:$PORT_A/access/http://127.0.0.1:$PORT_B/ping"
   ]
  },
  {
   "cell_type": "markdown",
   "metadata": {},
   "source": [
    "### Cleanup"
   ]
  },
  {
   "cell_type": "code",
   "execution_count": 16,
   "metadata": {},
   "outputs": [
    {
     "name": "stdout",
     "output_type": "stream",
     "text": [
      "34679fbca00315c559c9d064894bc7dc909a9d879b8c53b6c73da96265392008\n",
      "e75685c97769fcb1fbf5666216d220e69c50969b2278b01c9ee3330917aeb89d\n"
     ]
    }
   ],
   "source": [
    "for ID in $CONTAINER_ID_A $CONTAINER_ID_B\n",
    "do\n",
    "    docker kill $ID\n",
    "done"
   ]
  },
  {
   "cell_type": "markdown",
   "metadata": {},
   "source": [
    "## Use the host network\n",
    "Containers can also be attached directly to the host network with `--network host`. No port mappings are needed then, and containers can access each other directly because they share the same network and IP."
   ]
  }
 ],
 "metadata": {
  "kernelspec": {
   "display_name": "Bash",
   "language": "bash",
   "name": "bash"
  },
  "language_info": {
   "codemirror_mode": "shell",
   "file_extension": ".sh",
   "mimetype": "text/x-sh",
   "name": "bash"
  },
  "toc": {
   "base_numbering": 1,
   "nav_menu": {},
   "number_sections": true,
   "sideBar": true,
   "skip_h1_title": true,
   "title_cell": "Table of Contents",
   "title_sidebar": "Contents",
   "toc_cell": true,
   "toc_position": {},
   "toc_section_display": true,
   "toc_window_display": false
  }
 },
 "nbformat": 4,
 "nbformat_minor": 2
}
