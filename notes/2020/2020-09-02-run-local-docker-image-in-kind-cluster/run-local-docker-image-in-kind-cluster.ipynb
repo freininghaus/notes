{
 "cells": [
  {
   "cell_type": "markdown",
   "metadata": {},
   "source": [
    "# Set up a local Kubernetes cluster with `kind` and run a pod with a local Docker image\n",
    "The purpose of this notebook is to show how a Docker image that has been built locally can be tested in a local Kubernetes cluster.\n",
    "\n",
    "The only prerequisite for running this notebook is a running Docker daemon."
   ]
  },
  {
   "cell_type": "markdown",
   "metadata": {
    "toc": true
   },
   "source": [
    "<h1>Table of Contents<span class=\"tocSkip\"></span></h1>\n",
    "<div class=\"toc\"><ul class=\"toc-item\"><li><span><a href=\"#Create-Docker-image-with-a-simple-HTTP-server\" data-toc-modified-id=\"Create-Docker-image-with-a-simple-HTTP-server-1\"><span class=\"toc-item-num\">1&nbsp;&nbsp;</span>Create Docker image with a simple HTTP server</a></span><ul class=\"toc-item\"><li><span><a href=\"#Python-script\" data-toc-modified-id=\"Python-script-1.1\"><span class=\"toc-item-num\">1.1&nbsp;&nbsp;</span>Python script</a></span></li><li><span><a href=\"#Build-Docker-image\" data-toc-modified-id=\"Build-Docker-image-1.2\"><span class=\"toc-item-num\">1.2&nbsp;&nbsp;</span>Build Docker image</a></span></li></ul></li><li><span><a href=\"#Ensure-that-kubectl-and-kind-are-available\" data-toc-modified-id=\"Ensure-that-kubectl-and-kind-are-available-2\"><span class=\"toc-item-num\">2&nbsp;&nbsp;</span>Ensure that <code>kubectl</code> and <code>kind</code> are available</a></span></li><li><span><a href=\"#Set-up-a-local-Kubernetes-cluster-with-kind\" data-toc-modified-id=\"Set-up-a-local-Kubernetes-cluster-with-kind-3\"><span class=\"toc-item-num\">3&nbsp;&nbsp;</span>Set up a local Kubernetes cluster with <code>kind</code></a></span><ul class=\"toc-item\"><li><span><a href=\"#Create-cluster\" data-toc-modified-id=\"Create-cluster-3.1\"><span class=\"toc-item-num\">3.1&nbsp;&nbsp;</span>Create cluster</a></span></li><li><span><a href=\"#Verify-that-the-Kubernetes-cluster-is-running\" data-toc-modified-id=\"Verify-that-the-Kubernetes-cluster-is-running-3.2\"><span class=\"toc-item-num\">3.2&nbsp;&nbsp;</span>Verify that the Kubernetes cluster is running</a></span></li></ul></li><li><span><a href=\"#Create-a-pod-in-the-cluster\" data-toc-modified-id=\"Create-a-pod-in-the-cluster-4\"><span class=\"toc-item-num\">4&nbsp;&nbsp;</span>Create a pod in the cluster</a></span><ul class=\"toc-item\"><li><span><a href=\"#Load-the-image-into-the-kind-cluster\" data-toc-modified-id=\"Load-the-image-into-the-kind-cluster-4.1\"><span class=\"toc-item-num\">4.1&nbsp;&nbsp;</span>Load the image into the <code>kind</code> cluster</a></span></li><li><span><a href=\"#Start-a-pod-with-the-image\" data-toc-modified-id=\"Start-a-pod-with-the-image-4.2\"><span class=\"toc-item-num\">4.2&nbsp;&nbsp;</span>Start a pod with the image</a></span></li><li><span><a href=\"#Wait-until-the-pod-is-ready\" data-toc-modified-id=\"Wait-until-the-pod-is-ready-4.3\"><span class=\"toc-item-num\">4.3&nbsp;&nbsp;</span>Wait until the pod is ready</a></span></li><li><span><a href=\"#Forward-the-port-of-the-pod-to-a-local-port\" data-toc-modified-id=\"Forward-the-port-of-the-pod-to-a-local-port-4.4\"><span class=\"toc-item-num\">4.4&nbsp;&nbsp;</span>Forward the port of the pod to a local port</a></span></li><li><span><a href=\"#Verify-that-the-HTTP-server-in-the-cluster-answers-Hello-world\" data-toc-modified-id=\"Verify-that-the-HTTP-server-in-the-cluster-answers-Hello-world-4.5\"><span class=\"toc-item-num\">4.5&nbsp;&nbsp;</span>Verify that the HTTP server in the cluster answers <code>Hello world</code></a></span></li></ul></li><li><span><a href=\"#Delete-the-kind-cluster\" data-toc-modified-id=\"Delete-the-kind-cluster-5\"><span class=\"toc-item-num\">5&nbsp;&nbsp;</span>Delete the <code>kind</code> cluster</a></span></li></ul></div>"
   ]
  },
  {
   "cell_type": "markdown",
   "metadata": {},
   "source": [
    "## Create Docker image with a simple HTTP server"
   ]
  },
  {
   "cell_type": "markdown",
   "metadata": {},
   "source": [
    "### Python script\n",
    "Create a Python script (inspired by https://gist.github.com/davidbgk/b10113c3779b8388e96e6d0c44e03a74), which runs an HTTP server at port 8000 and responds `Hello world` to all GET requests."
   ]
  },
  {
   "cell_type": "code",
   "execution_count": 1,
   "metadata": {},
   "outputs": [],
   "source": [
    "export CONTAINER_PORT=8000\n",
    "\n",
    "mkdir -p tmp\n",
    "\n",
    "cat << EOF > tmp/server.py\n",
    "import http.server\n",
    "import socketserver\n",
    "from http import HTTPStatus\n",
    "\n",
    "class Handler(http.server.BaseHTTPRequestHandler):\n",
    "    def do_GET(self):\n",
    "        self.send_response(HTTPStatus.OK)\n",
    "        self.end_headers()\n",
    "        self.wfile.write(b'Hello world\\n')\n",
    "\n",
    "socketserver.TCPServer(('', $CONTAINER_PORT), Handler).serve_forever()\n",
    "EOF"
   ]
  },
  {
   "cell_type": "markdown",
   "metadata": {},
   "source": [
    "### Build Docker image"
   ]
  },
  {
   "cell_type": "code",
   "execution_count": 2,
   "metadata": {},
   "outputs": [],
   "source": [
    "cat << EOF > tmp/Dockerfile\n",
    "FROM python:3-slim\n",
    "COPY server.py .\n",
    "EXPOSE $CONTAINER_PORT\n",
    "CMD python server.py\n",
    "EOF"
   ]
  },
  {
   "cell_type": "code",
   "execution_count": 3,
   "metadata": {},
   "outputs": [
    {
     "name": "stdout",
     "output_type": "stream",
     "text": [
      "Sending build context to Docker daemon  4.096kB\n",
      "Step 1/4 : FROM python:3-slim\n",
      " ---> ce689abb4f0d\n",
      "Step 2/4 : COPY server.py .\n",
      " ---> Using cache\n",
      " ---> 449502d749bb\n",
      "Step 3/4 : EXPOSE 8000\n",
      " ---> Using cache\n",
      " ---> ead62cb7db41\n",
      "Step 4/4 : CMD python server.py\n",
      " ---> Using cache\n",
      " ---> 2b76a0b02e3b\n",
      "Successfully built 2b76a0b02e3b\n",
      "Successfully tagged python-hello-world-server:latest\n"
     ]
    }
   ],
   "source": [
    "DOCKER_IMAGE_NAME=python-hello-world-server\n",
    "docker build -t $DOCKER_IMAGE_NAME tmp"
   ]
  },
  {
   "cell_type": "markdown",
   "metadata": {},
   "source": [
    "## Ensure that `kubectl` and `kind` are available\n",
    "Since this notebook has no prerequisites except Docker, we download the required tools to a subdirectory `download` of the current directory."
   ]
  },
  {
   "cell_type": "code",
   "execution_count": 4,
   "metadata": {},
   "outputs": [],
   "source": [
    "mkdir -p download\n",
    "export DOWNLOAD_DIR=$PWD/download\n",
    "\n",
    "if [[ \":$PATH:\" != *\":$DOWNLOAD_DIR:\"* ]]; then\n",
    "    export PATH=$DOWNLOAD_DIR:$PATH\n",
    "fi"
   ]
  },
  {
   "cell_type": "markdown",
   "metadata": {},
   "source": [
    "This helper function downloads a file from a given URL if it is not present yet in the download directory."
   ]
  },
  {
   "cell_type": "code",
   "execution_count": 5,
   "metadata": {},
   "outputs": [],
   "source": [
    "function download() {\n",
    "    target=$1\n",
    "    target_path=\"$DOWNLOAD_DIR/$target\"\n",
    "    url=$2\n",
    "    \n",
    "    if [ ! -f \"$target_path\" ]; then\n",
    "        echo \"Downloading $target from $url...\"\n",
    "        curl -sLo \"$target_path\" $url\n",
    "        chmod u+x \"$target_path\"\n",
    "    else\n",
    "        echo \"$target has already been downloaded.\"\n",
    "    fi\n",
    "}"
   ]
  },
  {
   "cell_type": "code",
   "execution_count": 6,
   "metadata": {},
   "outputs": [
    {
     "name": "stdout",
     "output_type": "stream",
     "text": [
      "kubectl has already been downloaded.\n"
     ]
    }
   ],
   "source": [
    "download kubectl \"https://storage.googleapis.com/kubernetes-release/release/$(curl -s https://storage.googleapis.com/kubernetes-release/release/stable.txt)/bin/linux/amd64/kubectl\""
   ]
  },
  {
   "cell_type": "code",
   "execution_count": 7,
   "metadata": {},
   "outputs": [
    {
     "name": "stdout",
     "output_type": "stream",
     "text": [
      "kind has already been downloaded.\n"
     ]
    }
   ],
   "source": [
    "download kind \"https://kind.sigs.k8s.io/dl/v0.8.1/kind-$(uname)-amd64\""
   ]
  },
  {
   "cell_type": "markdown",
   "metadata": {},
   "source": [
    "## Set up a local Kubernetes cluster with `kind`"
   ]
  },
  {
   "cell_type": "markdown",
   "metadata": {},
   "source": [
    "### Create cluster"
   ]
  },
  {
   "cell_type": "code",
   "execution_count": 8,
   "metadata": {},
   "outputs": [
    {
     "name": "stdout",
     "output_type": "stream",
     "text": [
      "Creating cluster \"kind-test-local-image\" ...\n",
      " \u001b[32m✓\u001b[0m Ensuring node image (kindest/node:v1.18.2) 🖼7l\n",
      " \u001b[32m✓\u001b[0m Preparing nodes 📦 7l\n",
      " \u001b[32m✓\u001b[0m Writing configuration 📜7l\n",
      " \u001b[32m✓\u001b[0m Starting control-plane 🕹️7l\n",
      " \u001b[32m✓\u001b[0m Installing CNI 🔌7l\n",
      " \u001b[32m✓\u001b[0m Installing StorageClass 💾7l\n",
      "Set kubectl context to \"kind-kind-test-local-image\"\n",
      "You can now use your cluster with:\n",
      "\n",
      "kubectl cluster-info --context kind-kind-test-local-image\n",
      "\n",
      "Have a question, bug, or feature request? Let us know! https://kind.sigs.k8s.io/#community 🙂\n"
     ]
    }
   ],
   "source": [
    "export KUBECONFIG=tmp/kind-config\n",
    "CLUSTER_NAME=kind-test-local-image\n",
    "kind create cluster --name $CLUSTER_NAME"
   ]
  },
  {
   "cell_type": "markdown",
   "metadata": {},
   "source": [
    "### Verify that the Kubernetes cluster is running"
   ]
  },
  {
   "cell_type": "code",
   "execution_count": 9,
   "metadata": {},
   "outputs": [
    {
     "name": "stdout",
     "output_type": "stream",
     "text": [
      "\u001b[0;32mKubernetes control plane\u001b[0m is running at \u001b[0;33mhttps://127.0.0.1:43021\u001b[0m\n",
      "\u001b[0;32mKubeDNS\u001b[0m is running at \u001b[0;33mhttps://127.0.0.1:43021/api/v1/namespaces/kube-system/services/kube-dns:dns/proxy\u001b[0m\n",
      "\n",
      "To further debug and diagnose cluster problems, use 'kubectl cluster-info dump'.\n"
     ]
    }
   ],
   "source": [
    "kubectl cluster-info"
   ]
  },
  {
   "cell_type": "markdown",
   "metadata": {},
   "source": [
    "## Create a pod in the cluster"
   ]
  },
  {
   "cell_type": "markdown",
   "metadata": {},
   "source": [
    "### Load the image into the `kind` cluster"
   ]
  },
  {
   "cell_type": "code",
   "execution_count": 10,
   "metadata": {},
   "outputs": [
    {
     "name": "stdout",
     "output_type": "stream",
     "text": [
      "Image: \"python-hello-world-server\" with ID \"sha256:2b76a0b02e3b7296dbf9b72171811002b941c6844b7bb66b299d4fcd5b7ff251\" not yet present on node \"kind-test-local-image-control-plane\", loading...\n"
     ]
    }
   ],
   "source": [
    "kind load docker-image $DOCKER_IMAGE_NAME --name $CLUSTER_NAME"
   ]
  },
  {
   "cell_type": "markdown",
   "metadata": {},
   "source": [
    "### Start a pod with the image\n",
    "Note that the option `--image-pull-policy IfNotPresent` is required. Without this option, Kubernetes will try to pull the image. This is not possible because the image exists only on the local machine."
   ]
  },
  {
   "cell_type": "code",
   "execution_count": 11,
   "metadata": {},
   "outputs": [
    {
     "name": "stdout",
     "output_type": "stream",
     "text": [
      "pod/hello-world created\n"
     ]
    }
   ],
   "source": [
    "kubectl run hello-world --image $DOCKER_IMAGE_NAME --image-pull-policy IfNotPresent"
   ]
  },
  {
   "cell_type": "markdown",
   "metadata": {},
   "source": [
    "### Wait until the pod is ready\n",
    "This is important when running all cells in this notebook automatically. Even though the pod usually starts up pretty quickly, the next cells might be executed by Jupyter even faster."
   ]
  },
  {
   "cell_type": "code",
   "execution_count": 12,
   "metadata": {},
   "outputs": [
    {
     "name": "stdout",
     "output_type": "stream",
     "text": [
      "pod/hello-world condition met\n"
     ]
    }
   ],
   "source": [
    "kubectl wait --for=condition=ready pod/hello-world"
   ]
  },
  {
   "cell_type": "code",
   "execution_count": 13,
   "metadata": {},
   "outputs": [
    {
     "name": "stdout",
     "output_type": "stream",
     "text": [
      "NAME          READY   STATUS    RESTARTS   AGE\n",
      "hello-world   1/1     Running   0          3s\n"
     ]
    }
   ],
   "source": [
    "kubectl get pods"
   ]
  },
  {
   "cell_type": "markdown",
   "metadata": {},
   "source": [
    "### Forward the port of the pod to a local port\n",
    "Note:\n",
    "* `kubectl port-forward` is run in the background.\n",
    "* The first line of its output is captured according to https://stackoverflow.com/questions/20017805/bash-capture-output-of-command-run-in-background."
   ]
  },
  {
   "cell_type": "code",
   "execution_count": 14,
   "metadata": {},
   "outputs": [
    {
     "name": "stdout",
     "output_type": "stream",
     "text": [
      "Running: 'kubectl port-forward pod/hello-world :8000'\n",
      "Output:  'Forwarding from 127.0.0.1:36285 -> 8000'\n",
      "Port:    36285\n"
     ]
    }
   ],
   "source": [
    "command='kubectl port-forward pod/hello-world :8000'\n",
    "echo \"Running: '$command'\"\n",
    "exec 3< <($command &)\n",
    "read <&3 line\n",
    "echo \"Output:  '$line'\"\n",
    "HOST_PORT=$(echo $line | sed -r 's/^[^:]*:([0-9]+) .*$/\\1/g')\n",
    "echo \"Port:    $HOST_PORT\""
   ]
  },
  {
   "cell_type": "markdown",
   "metadata": {},
   "source": [
    "### Verify that the HTTP server in the cluster answers `Hello world`"
   ]
  },
  {
   "cell_type": "code",
   "execution_count": 15,
   "metadata": {},
   "outputs": [
    {
     "name": "stdout",
     "output_type": "stream",
     "text": [
      "Hello world\n"
     ]
    }
   ],
   "source": [
    "curl 127.0.0.1:$HOST_PORT"
   ]
  },
  {
   "cell_type": "markdown",
   "metadata": {},
   "source": [
    "## Delete the `kind` cluster"
   ]
  },
  {
   "cell_type": "code",
   "execution_count": 16,
   "metadata": {},
   "outputs": [
    {
     "name": "stdout",
     "output_type": "stream",
     "text": [
      "Deleting cluster \"kind-test-local-image\" ...\n",
      "E0223 16:13:28.851323    4647 portforward.go:233] lost connection to pod\n"
     ]
    }
   ],
   "source": [
    "kind delete cluster --name $CLUSTER_NAME"
   ]
  }
 ],
 "metadata": {
  "kernelspec": {
   "display_name": "Bash",
   "language": "bash",
   "name": "bash"
  },
  "language_info": {
   "codemirror_mode": "shell",
   "file_extension": ".sh",
   "mimetype": "text/x-sh",
   "name": "bash"
  },
  "toc": {
   "base_numbering": 1,
   "nav_menu": {},
   "number_sections": true,
   "sideBar": true,
   "skip_h1_title": true,
   "title_cell": "Table of Contents",
   "title_sidebar": "Contents",
   "toc_cell": true,
   "toc_position": {},
   "toc_section_display": true,
   "toc_window_display": false
  }
 },
 "nbformat": 4,
 "nbformat_minor": 2
}
