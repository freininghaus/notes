{
 "cells": [
  {
   "cell_type": "markdown",
   "metadata": {
    "toc": true
   },
   "source": [
    "<h1>Table of Contents<span class=\"tocSkip\"></span></h1>\n",
    "<div class=\"toc\"><ul class=\"toc-item\"><li><span><a href=\"#Start-the-app-in-the-background-and-remember-its-PID\" data-toc-modified-id=\"Start-the-app-in-the-background-and-remember-its-PID-1\"><span class=\"toc-item-num\">1&nbsp;&nbsp;</span>Start the app in the background and remember its PID</a></span></li><li><span><a href=\"#Example-usage\" data-toc-modified-id=\"Example-usage-2\"><span class=\"toc-item-num\">2&nbsp;&nbsp;</span>Example usage</a></span><ul class=\"toc-item\"><li><span><a href=\"#Data-storage-is-empty-initially\" data-toc-modified-id=\"Data-storage-is-empty-initially-2.1\"><span class=\"toc-item-num\">2.1&nbsp;&nbsp;</span>Data storage is empty initially</a></span></li><li><span><a href=\"#Add-two-documents-with-keys-a-and-b\" data-toc-modified-id=\"Add-two-documents-with-keys-a-and-b-2.2\"><span class=\"toc-item-num\">2.2&nbsp;&nbsp;</span>Add two documents with keys <em>a</em> and <em>b</em></a></span></li><li><span><a href=\"#Get-the-list-of-keys-again,-which-is-not-empty-any-more\" data-toc-modified-id=\"Get-the-list-of-keys-again,-which-is-not-empty-any-more-2.3\"><span class=\"toc-item-num\">2.3&nbsp;&nbsp;</span>Get the list of keys again, which is not empty any more</a></span></li><li><span><a href=\"#Get-the-documents-stored-with-keys-a-and-b\" data-toc-modified-id=\"Get-the-documents-stored-with-keys-a-and-b-2.4\"><span class=\"toc-item-num\">2.4&nbsp;&nbsp;</span>Get the documents stored with keys <em>a</em> and <em>b</em></a></span></li><li><span><a href=\"#Delete-document-a\" data-toc-modified-id=\"Delete-document-a-2.5\"><span class=\"toc-item-num\">2.5&nbsp;&nbsp;</span>Delete document <em>a</em></a></span></li><li><span><a href=\"#Now-b-is-the-only-remaining-key\" data-toc-modified-id=\"Now-b-is-the-only-remaining-key-2.6\"><span class=\"toc-item-num\">2.6&nbsp;&nbsp;</span>Now <em>b</em> is the only remaining key</a></span></li></ul></li><li><span><a href=\"#Error-handling\" data-toc-modified-id=\"Error-handling-3\"><span class=\"toc-item-num\">3&nbsp;&nbsp;</span>Error handling</a></span><ul class=\"toc-item\"><li><span><a href=\"#Trying-to-access-a-with-GET-fails\" data-toc-modified-id=\"Trying-to-access-a-with-GET-fails-3.1\"><span class=\"toc-item-num\">3.1&nbsp;&nbsp;</span>Trying to access <em>a</em> with GET fails</a></span></li><li><span><a href=\"#So-does-trying-to-delete-a-again\" data-toc-modified-id=\"So-does-trying-to-delete-a-again-3.2\"><span class=\"toc-item-num\">3.2&nbsp;&nbsp;</span>So does trying to delete <em>a</em> again</a></span></li><li><span><a href=\"#Trying-to-insert-invalid-JSON\" data-toc-modified-id=\"Trying-to-insert-invalid-JSON-3.3\"><span class=\"toc-item-num\">3.3&nbsp;&nbsp;</span>Trying to insert invalid JSON</a></span></li></ul></li><li><span><a href=\"#Kill-the-app-which-was-running-in-the-background\" data-toc-modified-id=\"Kill-the-app-which-was-running-in-the-background-4\"><span class=\"toc-item-num\">4&nbsp;&nbsp;</span>Kill the app which was running in the background</a></span></li></ul></div>"
   ]
  },
  {
   "cell_type": "markdown",
   "metadata": {},
   "source": [
    "# Usage demo of the simple aiohttp CRUD app"
   ]
  },
  {
   "cell_type": "markdown",
   "metadata": {},
   "source": [
    "## Start the app in the background and remember its PID"
   ]
  },
  {
   "cell_type": "code",
   "execution_count": 1,
   "metadata": {},
   "outputs": [
    {
     "name": "stdout",
     "output_type": "stream",
     "text": [
      "[1] 27209\n",
      "CRUD demo app (using a list of routes)\n",
      "======== Running on http://0.0.0.0:8080 ========\n",
      "(Press CTRL+C to quit)\n"
     ]
    }
   ],
   "source": [
    "python app.py &\n",
    "# everything works exactly the same way with: python app-with-decorators.py &\n",
    "APP_PID=$!\n",
    "sleep 1"
   ]
  },
  {
   "cell_type": "markdown",
   "metadata": {},
   "source": [
    "## Example usage"
   ]
  },
  {
   "cell_type": "markdown",
   "metadata": {},
   "source": [
    "### Data storage is empty initially"
   ]
  },
  {
   "cell_type": "code",
   "execution_count": 2,
   "metadata": {},
   "outputs": [
    {
     "name": "stdout",
     "output_type": "stream",
     "text": [
      "[]"
     ]
    }
   ],
   "source": [
    "curl 127.0.0.1:8080"
   ]
  },
  {
   "cell_type": "markdown",
   "metadata": {},
   "source": [
    "### Add two documents with keys *a* and *b*"
   ]
  },
  {
   "cell_type": "code",
   "execution_count": 3,
   "metadata": {},
   "outputs": [
    {
     "name": "stdout",
     "output_type": "stream",
     "text": [
      "ok"
     ]
    }
   ],
   "source": [
    "curl -X POST 127.0.0.1:8080/a --data-binary '{\"my_list\":[1, 2, 3]}'"
   ]
  },
  {
   "cell_type": "code",
   "execution_count": 4,
   "metadata": {},
   "outputs": [
    {
     "name": "stdout",
     "output_type": "stream",
     "text": [
      "ok"
     ]
    }
   ],
   "source": [
    "curl -X POST 127.0.0.1:8080/b --data-binary '{\"foo\": true, \"bar\": null, \"baz\": 42}'"
   ]
  },
  {
   "cell_type": "markdown",
   "metadata": {},
   "source": [
    "### Get the list of keys again, which is not empty any more"
   ]
  },
  {
   "cell_type": "code",
   "execution_count": 5,
   "metadata": {},
   "outputs": [
    {
     "name": "stdout",
     "output_type": "stream",
     "text": [
      "[\"a\", \"b\"]"
     ]
    }
   ],
   "source": [
    "curl 127.0.0.1:8080"
   ]
  },
  {
   "cell_type": "markdown",
   "metadata": {},
   "source": [
    "### Get the documents stored with keys *a* and *b*"
   ]
  },
  {
   "cell_type": "code",
   "execution_count": 6,
   "metadata": {},
   "outputs": [
    {
     "name": "stdout",
     "output_type": "stream",
     "text": [
      "{\"my_list\": [1, 2, 3]}"
     ]
    }
   ],
   "source": [
    "curl 127.0.0.1:8080/a"
   ]
  },
  {
   "cell_type": "code",
   "execution_count": 7,
   "metadata": {},
   "outputs": [
    {
     "name": "stdout",
     "output_type": "stream",
     "text": [
      "{\"foo\": true, \"bar\": null, \"baz\": 42}"
     ]
    }
   ],
   "source": [
    "curl 127.0.0.1:8080/b"
   ]
  },
  {
   "cell_type": "markdown",
   "metadata": {},
   "source": [
    "### Delete document *a*"
   ]
  },
  {
   "cell_type": "code",
   "execution_count": 8,
   "metadata": {},
   "outputs": [
    {
     "name": "stdout",
     "output_type": "stream",
     "text": [
      "ok"
     ]
    }
   ],
   "source": [
    "curl -X DELETE 127.0.0.1:8080/a"
   ]
  },
  {
   "cell_type": "markdown",
   "metadata": {},
   "source": [
    "### Now *b* is the only remaining key"
   ]
  },
  {
   "cell_type": "code",
   "execution_count": 9,
   "metadata": {},
   "outputs": [
    {
     "name": "stdout",
     "output_type": "stream",
     "text": [
      "[\"b\"]"
     ]
    }
   ],
   "source": [
    "curl 127.0.0.1:8080"
   ]
  },
  {
   "cell_type": "markdown",
   "metadata": {},
   "source": [
    "## Error handling"
   ]
  },
  {
   "cell_type": "markdown",
   "metadata": {},
   "source": [
    "### Trying to access *a* with GET fails"
   ]
  },
  {
   "cell_type": "code",
   "execution_count": 10,
   "metadata": {},
   "outputs": [
    {
     "name": "stdout",
     "output_type": "stream",
     "text": [
      "404: Not Found"
     ]
    }
   ],
   "source": [
    "curl 127.0.0.1:8080/a"
   ]
  },
  {
   "cell_type": "markdown",
   "metadata": {},
   "source": [
    "### So does trying to delete *a* again"
   ]
  },
  {
   "cell_type": "code",
   "execution_count": 11,
   "metadata": {},
   "outputs": [
    {
     "name": "stdout",
     "output_type": "stream",
     "text": [
      "404: Not Found"
     ]
    }
   ],
   "source": [
    "curl -X DELETE 127.0.0.1:8080/a"
   ]
  },
  {
   "cell_type": "markdown",
   "metadata": {},
   "source": [
    "### Trying to insert invalid JSON"
   ]
  },
  {
   "cell_type": "code",
   "execution_count": 12,
   "metadata": {},
   "outputs": [
    {
     "name": "stdout",
     "output_type": "stream",
     "text": [
      "Failed to parse request content as JSON. Error at position 19: Expecting ',' delimiter"
     ]
    }
   ],
   "source": [
    "curl -X POST 127.0.0.1:8080/c --data-binary '{\"my_list\":[1, 2, 3}'"
   ]
  },
  {
   "cell_type": "markdown",
   "metadata": {},
   "source": [
    "## Kill the app which was running in the background"
   ]
  },
  {
   "cell_type": "code",
   "execution_count": 13,
   "metadata": {},
   "outputs": [
    {
     "ename": "",
     "evalue": "1",
     "output_type": "error",
     "traceback": []
    }
   ],
   "source": [
    "kill $APP_PID"
   ]
  }
 ],
 "metadata": {
  "kernelspec": {
   "display_name": "Bash",
   "language": "bash",
   "name": "bash"
  },
  "language_info": {
   "codemirror_mode": "shell",
   "file_extension": ".sh",
   "mimetype": "text/x-sh",
   "name": "bash"
  },
  "toc": {
   "base_numbering": 1,
   "nav_menu": {},
   "number_sections": true,
   "sideBar": true,
   "skip_h1_title": true,
   "title_cell": "Table of Contents",
   "title_sidebar": "Contents",
   "toc_cell": true,
   "toc_position": {},
   "toc_section_display": true,
   "toc_window_display": false
  }
 },
 "nbformat": 4,
 "nbformat_minor": 2
}
